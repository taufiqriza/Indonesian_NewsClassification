{
  "cells": [
    {
      "cell_type": "markdown",
      "source": [
        "**Nama :** Muhamad Taufiq Riza <br/>\n",
        "**NIM  :** 402019611021 <br/>\n",
        "**Mata Kuliah :** Natural language Processing"
      ],
      "metadata": {
        "id": "1Gw9ucFjihSH"
      }
    },
    {
      "cell_type": "code",
      "execution_count": 92,
      "metadata": {
        "colab": {
          "base_uri": "https://localhost:8080/"
        },
        "id": "iyBARyHXAPgx",
        "outputId": "99381df3-0661-477b-d337-3805a4b0b03b"
      },
      "outputs": [
        {
          "output_type": "stream",
          "name": "stdout",
          "text": [
            "[nltk_data] Downloading package stopwords to /root/nltk_data...\n",
            "[nltk_data]   Package stopwords is already up-to-date!\n",
            "[nltk_data] Downloading package punkt to /root/nltk_data...\n",
            "[nltk_data]   Package punkt is already up-to-date!\n",
            "[nltk_data] Downloading package averaged_perceptron_tagger to\n",
            "[nltk_data]     /root/nltk_data...\n",
            "[nltk_data]   Package averaged_perceptron_tagger is already up-to-\n",
            "[nltk_data]       date!\n"
          ]
        }
      ],
      "source": [
        "import pandas as pd\n",
        "import numpy as np\n",
        "import matplotlib.pyplot as plt\n",
        "%matplotlib inline\n",
        "import seaborn as sns\n",
        "from tensorflow import keras\n",
        "\n",
        "import string\n",
        "import re\n",
        "from nltk.corpus import stopwords\n",
        "from nltk.stem import PorterStemmer\n",
        "from nltk.tokenize import sent_tokenize, word_tokenize\n",
        "\n",
        "from sklearn.feature_extraction.text import CountVectorizer\n",
        "from sklearn.feature_extraction.text import TfidfTransformer\n",
        "from sklearn.model_selection import train_test_split\n",
        "from sklearn.pipeline import Pipeline\n",
        "\n",
        "from tensorflow.keras.preprocessing.text import Tokenizer\n",
        "from tensorflow.keras.preprocessing.sequence import pad_sequences\n",
        "from tensorflow.keras.models import Sequential\n",
        "from tensorflow.keras.layers import Embedding\n",
        "from tensorflow.keras.layers import SimpleRNN\n",
        "from tensorflow.keras.layers import Dense\n",
        "from tensorflow.keras.layers import Flatten\n",
        "from tensorflow.keras.layers import Dropout\n",
        "from tensorflow.keras.callbacks import EarlyStopping\n",
        "from keras.preprocessing import sequence\n",
        "from keras.layers import Embedding, SpatialDropout1D, LSTM, Dense\n",
        "\n",
        "import nltk\n",
        "nltk.download('stopwords')\n",
        "nltk.download('punkt')\n",
        "nltk.download('averaged_perceptron_tagger')\n",
        "\n",
        "from sklearn.metrics import accuracy_score, classification_report, confusion_matrix\n",
        "from imblearn.metrics import sensitivity_score"
      ]
    },
    {
      "cell_type": "code",
      "execution_count": 93,
      "metadata": {
        "colab": {
          "base_uri": "https://localhost:8080/",
          "height": 454
        },
        "id": "uQivlmf0APg2",
        "outputId": "ed6000a2-d55e-4ece-fadb-f7147cbb7cbc"
      },
      "outputs": [
        {
          "output_type": "execute_result",
          "data": {
            "text/plain": [
              "                                           Article Title  \\\n",
              "Nomor                                                      \n",
              "1.0    7 Hobi yang Bisa Datangkan Cuan di 2022, Ada H...   \n",
              "2.0    Perbanyak Ahli Gunung Api, ITN Yogyakarta Buka...   \n",
              "3.0    PTM Terbatas 2022 di Jakarta, Ini Aturan Kegia...   \n",
              "4.0    Mengapa Perlu Menjaga Kelestarian Tanaman Baka...   \n",
              "5.0    Cara Membuat Surat Lamaran Kerja yang Sempurna...   \n",
              "\n",
              "                                            Article Link  \\\n",
              "Nomor                                                      \n",
              "1.0    https://www.detik.com/edu/edutainment/d-588006...   \n",
              "2.0    https://www.detik.com/edu/perguruan-tinggi/d-5...   \n",
              "3.0    https://www.detik.com/edu/sekolah/d-5880075/pt...   \n",
              "4.0    https://www.detik.com/edu/detikpedia/d-5879161...   \n",
              "5.0    https://www.detik.com/edu/edutainment/d-587992...   \n",
              "\n",
              "                                         Article Content Kategori  \n",
              "Nomor                                                              \n",
              "1.0    Meski banyak orang menganggap hobi hanya sebat...      EDU  \n",
              "2.0    Institut Teknologi Nasional (ITN) Yogyakarta m...      EDU  \n",
              "3.0    Pemerintah Provinsi DKI Jakarta melalui Kepala...      EDU  \n",
              "4.0    Tanaman bakau adalah salah satu ekosistem yang...      EDU  \n",
              "5.0    Membuat Curriculum Vitae (CV) dan surat lamara...      EDU  "
            ],
            "text/html": [
              "\n",
              "  <div id=\"df-791c41c6-74f8-4a5a-8df9-7abdfaaff05d\">\n",
              "    <div class=\"colab-df-container\">\n",
              "      <div>\n",
              "<style scoped>\n",
              "    .dataframe tbody tr th:only-of-type {\n",
              "        vertical-align: middle;\n",
              "    }\n",
              "\n",
              "    .dataframe tbody tr th {\n",
              "        vertical-align: top;\n",
              "    }\n",
              "\n",
              "    .dataframe thead th {\n",
              "        text-align: right;\n",
              "    }\n",
              "</style>\n",
              "<table border=\"1\" class=\"dataframe\">\n",
              "  <thead>\n",
              "    <tr style=\"text-align: right;\">\n",
              "      <th></th>\n",
              "      <th>Article Title</th>\n",
              "      <th>Article Link</th>\n",
              "      <th>Article Content</th>\n",
              "      <th>Kategori</th>\n",
              "    </tr>\n",
              "    <tr>\n",
              "      <th>Nomor</th>\n",
              "      <th></th>\n",
              "      <th></th>\n",
              "      <th></th>\n",
              "      <th></th>\n",
              "    </tr>\n",
              "  </thead>\n",
              "  <tbody>\n",
              "    <tr>\n",
              "      <th>1.0</th>\n",
              "      <td>7 Hobi yang Bisa Datangkan Cuan di 2022, Ada H...</td>\n",
              "      <td>https://www.detik.com/edu/edutainment/d-588006...</td>\n",
              "      <td>Meski banyak orang menganggap hobi hanya sebat...</td>\n",
              "      <td>EDU</td>\n",
              "    </tr>\n",
              "    <tr>\n",
              "      <th>2.0</th>\n",
              "      <td>Perbanyak Ahli Gunung Api, ITN Yogyakarta Buka...</td>\n",
              "      <td>https://www.detik.com/edu/perguruan-tinggi/d-5...</td>\n",
              "      <td>Institut Teknologi Nasional (ITN) Yogyakarta m...</td>\n",
              "      <td>EDU</td>\n",
              "    </tr>\n",
              "    <tr>\n",
              "      <th>3.0</th>\n",
              "      <td>PTM Terbatas 2022 di Jakarta, Ini Aturan Kegia...</td>\n",
              "      <td>https://www.detik.com/edu/sekolah/d-5880075/pt...</td>\n",
              "      <td>Pemerintah Provinsi DKI Jakarta melalui Kepala...</td>\n",
              "      <td>EDU</td>\n",
              "    </tr>\n",
              "    <tr>\n",
              "      <th>4.0</th>\n",
              "      <td>Mengapa Perlu Menjaga Kelestarian Tanaman Baka...</td>\n",
              "      <td>https://www.detik.com/edu/detikpedia/d-5879161...</td>\n",
              "      <td>Tanaman bakau adalah salah satu ekosistem yang...</td>\n",
              "      <td>EDU</td>\n",
              "    </tr>\n",
              "    <tr>\n",
              "      <th>5.0</th>\n",
              "      <td>Cara Membuat Surat Lamaran Kerja yang Sempurna...</td>\n",
              "      <td>https://www.detik.com/edu/edutainment/d-587992...</td>\n",
              "      <td>Membuat Curriculum Vitae (CV) dan surat lamara...</td>\n",
              "      <td>EDU</td>\n",
              "    </tr>\n",
              "  </tbody>\n",
              "</table>\n",
              "</div>\n",
              "      <button class=\"colab-df-convert\" onclick=\"convertToInteractive('df-791c41c6-74f8-4a5a-8df9-7abdfaaff05d')\"\n",
              "              title=\"Convert this dataframe to an interactive table.\"\n",
              "              style=\"display:none;\">\n",
              "        \n",
              "  <svg xmlns=\"http://www.w3.org/2000/svg\" height=\"24px\"viewBox=\"0 0 24 24\"\n",
              "       width=\"24px\">\n",
              "    <path d=\"M0 0h24v24H0V0z\" fill=\"none\"/>\n",
              "    <path d=\"M18.56 5.44l.94 2.06.94-2.06 2.06-.94-2.06-.94-.94-2.06-.94 2.06-2.06.94zm-11 1L8.5 8.5l.94-2.06 2.06-.94-2.06-.94L8.5 2.5l-.94 2.06-2.06.94zm10 10l.94 2.06.94-2.06 2.06-.94-2.06-.94-.94-2.06-.94 2.06-2.06.94z\"/><path d=\"M17.41 7.96l-1.37-1.37c-.4-.4-.92-.59-1.43-.59-.52 0-1.04.2-1.43.59L10.3 9.45l-7.72 7.72c-.78.78-.78 2.05 0 2.83L4 21.41c.39.39.9.59 1.41.59.51 0 1.02-.2 1.41-.59l7.78-7.78 2.81-2.81c.8-.78.8-2.07 0-2.86zM5.41 20L4 18.59l7.72-7.72 1.47 1.35L5.41 20z\"/>\n",
              "  </svg>\n",
              "      </button>\n",
              "      \n",
              "  <style>\n",
              "    .colab-df-container {\n",
              "      display:flex;\n",
              "      flex-wrap:wrap;\n",
              "      gap: 12px;\n",
              "    }\n",
              "\n",
              "    .colab-df-convert {\n",
              "      background-color: #E8F0FE;\n",
              "      border: none;\n",
              "      border-radius: 50%;\n",
              "      cursor: pointer;\n",
              "      display: none;\n",
              "      fill: #1967D2;\n",
              "      height: 32px;\n",
              "      padding: 0 0 0 0;\n",
              "      width: 32px;\n",
              "    }\n",
              "\n",
              "    .colab-df-convert:hover {\n",
              "      background-color: #E2EBFA;\n",
              "      box-shadow: 0px 1px 2px rgba(60, 64, 67, 0.3), 0px 1px 3px 1px rgba(60, 64, 67, 0.15);\n",
              "      fill: #174EA6;\n",
              "    }\n",
              "\n",
              "    [theme=dark] .colab-df-convert {\n",
              "      background-color: #3B4455;\n",
              "      fill: #D2E3FC;\n",
              "    }\n",
              "\n",
              "    [theme=dark] .colab-df-convert:hover {\n",
              "      background-color: #434B5C;\n",
              "      box-shadow: 0px 1px 3px 1px rgba(0, 0, 0, 0.15);\n",
              "      filter: drop-shadow(0px 1px 2px rgba(0, 0, 0, 0.3));\n",
              "      fill: #FFFFFF;\n",
              "    }\n",
              "  </style>\n",
              "\n",
              "      <script>\n",
              "        const buttonEl =\n",
              "          document.querySelector('#df-791c41c6-74f8-4a5a-8df9-7abdfaaff05d button.colab-df-convert');\n",
              "        buttonEl.style.display =\n",
              "          google.colab.kernel.accessAllowed ? 'block' : 'none';\n",
              "\n",
              "        async function convertToInteractive(key) {\n",
              "          const element = document.querySelector('#df-791c41c6-74f8-4a5a-8df9-7abdfaaff05d');\n",
              "          const dataTable =\n",
              "            await google.colab.kernel.invokeFunction('convertToInteractive',\n",
              "                                                     [key], {});\n",
              "          if (!dataTable) return;\n",
              "\n",
              "          const docLinkHtml = 'Like what you see? Visit the ' +\n",
              "            '<a target=\"_blank\" href=https://colab.research.google.com/notebooks/data_table.ipynb>data table notebook</a>'\n",
              "            + ' to learn more about interactive tables.';\n",
              "          element.innerHTML = '';\n",
              "          dataTable['output_type'] = 'display_data';\n",
              "          await google.colab.output.renderOutput(dataTable, element);\n",
              "          const docLink = document.createElement('div');\n",
              "          docLink.innerHTML = docLinkHtml;\n",
              "          element.appendChild(docLink);\n",
              "        }\n",
              "      </script>\n",
              "    </div>\n",
              "  </div>\n",
              "  "
            ]
          },
          "metadata": {},
          "execution_count": 93
        }
      ],
      "source": [
        "df = pd.read_excel('sample_data/news.xlsx', header=0,index_col=0)\n",
        "df.head()"
      ]
    },
    {
      "cell_type": "code",
      "execution_count": 94,
      "metadata": {
        "colab": {
          "base_uri": "https://localhost:8080/"
        },
        "id": "JcYhKyTwAPg3",
        "outputId": "4b44ed90-461b-4df2-c056-23b321e018d4"
      },
      "outputs": [
        {
          "output_type": "stream",
          "name": "stdout",
          "text": [
            "<class 'pandas.core.frame.DataFrame'>\n",
            "Float64Index: 2493 entries, 1.0 to 2493.0\n",
            "Data columns (total 4 columns):\n",
            " #   Column           Non-Null Count  Dtype \n",
            "---  ------           --------------  ----- \n",
            " 0   Article Title    2493 non-null   object\n",
            " 1   Article Link     2493 non-null   object\n",
            " 2   Article Content  2493 non-null   object\n",
            " 3   Kategori         2493 non-null   object\n",
            "dtypes: object(4)\n",
            "memory usage: 97.4+ KB\n"
          ]
        }
      ],
      "source": [
        "df.info()"
      ]
    },
    {
      "cell_type": "code",
      "execution_count": 95,
      "metadata": {
        "colab": {
          "base_uri": "https://localhost:8080/",
          "height": 237
        },
        "id": "VMWhvkY1APg3",
        "outputId": "7d3b0275-a39e-47c1-995a-33609de4a234"
      },
      "outputs": [
        {
          "output_type": "execute_result",
          "data": {
            "text/plain": [
              "      Kategori                                    Article Content\n",
              "Nomor                                                            \n",
              "1.0        EDU  Meski banyak orang menganggap hobi hanya sebat...\n",
              "2.0        EDU  Institut Teknologi Nasional (ITN) Yogyakarta m...\n",
              "3.0        EDU  Pemerintah Provinsi DKI Jakarta melalui Kepala...\n",
              "4.0        EDU  Tanaman bakau adalah salah satu ekosistem yang...\n",
              "5.0        EDU  Membuat Curriculum Vitae (CV) dan surat lamara..."
            ],
            "text/html": [
              "\n",
              "  <div id=\"df-797532b0-08b3-40bd-a351-55b6c13990ee\">\n",
              "    <div class=\"colab-df-container\">\n",
              "      <div>\n",
              "<style scoped>\n",
              "    .dataframe tbody tr th:only-of-type {\n",
              "        vertical-align: middle;\n",
              "    }\n",
              "\n",
              "    .dataframe tbody tr th {\n",
              "        vertical-align: top;\n",
              "    }\n",
              "\n",
              "    .dataframe thead th {\n",
              "        text-align: right;\n",
              "    }\n",
              "</style>\n",
              "<table border=\"1\" class=\"dataframe\">\n",
              "  <thead>\n",
              "    <tr style=\"text-align: right;\">\n",
              "      <th></th>\n",
              "      <th>Kategori</th>\n",
              "      <th>Article Content</th>\n",
              "    </tr>\n",
              "    <tr>\n",
              "      <th>Nomor</th>\n",
              "      <th></th>\n",
              "      <th></th>\n",
              "    </tr>\n",
              "  </thead>\n",
              "  <tbody>\n",
              "    <tr>\n",
              "      <th>1.0</th>\n",
              "      <td>EDU</td>\n",
              "      <td>Meski banyak orang menganggap hobi hanya sebat...</td>\n",
              "    </tr>\n",
              "    <tr>\n",
              "      <th>2.0</th>\n",
              "      <td>EDU</td>\n",
              "      <td>Institut Teknologi Nasional (ITN) Yogyakarta m...</td>\n",
              "    </tr>\n",
              "    <tr>\n",
              "      <th>3.0</th>\n",
              "      <td>EDU</td>\n",
              "      <td>Pemerintah Provinsi DKI Jakarta melalui Kepala...</td>\n",
              "    </tr>\n",
              "    <tr>\n",
              "      <th>4.0</th>\n",
              "      <td>EDU</td>\n",
              "      <td>Tanaman bakau adalah salah satu ekosistem yang...</td>\n",
              "    </tr>\n",
              "    <tr>\n",
              "      <th>5.0</th>\n",
              "      <td>EDU</td>\n",
              "      <td>Membuat Curriculum Vitae (CV) dan surat lamara...</td>\n",
              "    </tr>\n",
              "  </tbody>\n",
              "</table>\n",
              "</div>\n",
              "      <button class=\"colab-df-convert\" onclick=\"convertToInteractive('df-797532b0-08b3-40bd-a351-55b6c13990ee')\"\n",
              "              title=\"Convert this dataframe to an interactive table.\"\n",
              "              style=\"display:none;\">\n",
              "        \n",
              "  <svg xmlns=\"http://www.w3.org/2000/svg\" height=\"24px\"viewBox=\"0 0 24 24\"\n",
              "       width=\"24px\">\n",
              "    <path d=\"M0 0h24v24H0V0z\" fill=\"none\"/>\n",
              "    <path d=\"M18.56 5.44l.94 2.06.94-2.06 2.06-.94-2.06-.94-.94-2.06-.94 2.06-2.06.94zm-11 1L8.5 8.5l.94-2.06 2.06-.94-2.06-.94L8.5 2.5l-.94 2.06-2.06.94zm10 10l.94 2.06.94-2.06 2.06-.94-2.06-.94-.94-2.06-.94 2.06-2.06.94z\"/><path d=\"M17.41 7.96l-1.37-1.37c-.4-.4-.92-.59-1.43-.59-.52 0-1.04.2-1.43.59L10.3 9.45l-7.72 7.72c-.78.78-.78 2.05 0 2.83L4 21.41c.39.39.9.59 1.41.59.51 0 1.02-.2 1.41-.59l7.78-7.78 2.81-2.81c.8-.78.8-2.07 0-2.86zM5.41 20L4 18.59l7.72-7.72 1.47 1.35L5.41 20z\"/>\n",
              "  </svg>\n",
              "      </button>\n",
              "      \n",
              "  <style>\n",
              "    .colab-df-container {\n",
              "      display:flex;\n",
              "      flex-wrap:wrap;\n",
              "      gap: 12px;\n",
              "    }\n",
              "\n",
              "    .colab-df-convert {\n",
              "      background-color: #E8F0FE;\n",
              "      border: none;\n",
              "      border-radius: 50%;\n",
              "      cursor: pointer;\n",
              "      display: none;\n",
              "      fill: #1967D2;\n",
              "      height: 32px;\n",
              "      padding: 0 0 0 0;\n",
              "      width: 32px;\n",
              "    }\n",
              "\n",
              "    .colab-df-convert:hover {\n",
              "      background-color: #E2EBFA;\n",
              "      box-shadow: 0px 1px 2px rgba(60, 64, 67, 0.3), 0px 1px 3px 1px rgba(60, 64, 67, 0.15);\n",
              "      fill: #174EA6;\n",
              "    }\n",
              "\n",
              "    [theme=dark] .colab-df-convert {\n",
              "      background-color: #3B4455;\n",
              "      fill: #D2E3FC;\n",
              "    }\n",
              "\n",
              "    [theme=dark] .colab-df-convert:hover {\n",
              "      background-color: #434B5C;\n",
              "      box-shadow: 0px 1px 3px 1px rgba(0, 0, 0, 0.15);\n",
              "      filter: drop-shadow(0px 1px 2px rgba(0, 0, 0, 0.3));\n",
              "      fill: #FFFFFF;\n",
              "    }\n",
              "  </style>\n",
              "\n",
              "      <script>\n",
              "        const buttonEl =\n",
              "          document.querySelector('#df-797532b0-08b3-40bd-a351-55b6c13990ee button.colab-df-convert');\n",
              "        buttonEl.style.display =\n",
              "          google.colab.kernel.accessAllowed ? 'block' : 'none';\n",
              "\n",
              "        async function convertToInteractive(key) {\n",
              "          const element = document.querySelector('#df-797532b0-08b3-40bd-a351-55b6c13990ee');\n",
              "          const dataTable =\n",
              "            await google.colab.kernel.invokeFunction('convertToInteractive',\n",
              "                                                     [key], {});\n",
              "          if (!dataTable) return;\n",
              "\n",
              "          const docLinkHtml = 'Like what you see? Visit the ' +\n",
              "            '<a target=\"_blank\" href=https://colab.research.google.com/notebooks/data_table.ipynb>data table notebook</a>'\n",
              "            + ' to learn more about interactive tables.';\n",
              "          element.innerHTML = '';\n",
              "          dataTable['output_type'] = 'display_data';\n",
              "          await google.colab.output.renderOutput(dataTable, element);\n",
              "          const docLink = document.createElement('div');\n",
              "          docLink.innerHTML = docLinkHtml;\n",
              "          element.appendChild(docLink);\n",
              "        }\n",
              "      </script>\n",
              "    </div>\n",
              "  </div>\n",
              "  "
            ]
          },
          "metadata": {},
          "execution_count": 95
        }
      ],
      "source": [
        "text_df = df[['Kategori', 'Article Content']]\n",
        "text_df.head()"
      ]
    },
    {
      "cell_type": "code",
      "execution_count": 96,
      "metadata": {
        "colab": {
          "base_uri": "https://localhost:8080/"
        },
        "id": "qh4Fx3t1APg4",
        "outputId": "7a50be1d-2ca6-4f29-a35e-914fa0b8eb90"
      },
      "outputs": [
        {
          "output_type": "execute_result",
          "data": {
            "text/plain": [
              "(2493, 2)"
            ]
          },
          "metadata": {},
          "execution_count": 96
        }
      ],
      "source": [
        "#shape of data:\n",
        "text_df.shape"
      ]
    },
    {
      "cell_type": "code",
      "execution_count": 97,
      "metadata": {
        "colab": {
          "base_uri": "https://localhost:8080/"
        },
        "id": "34Ze-fBDAPg4",
        "outputId": "198dcbef-6cc3-4148-f110-ce502993b9c8"
      },
      "outputs": [
        {
          "output_type": "stream",
          "name": "stdout",
          "text": [
            "<class 'pandas.core.frame.DataFrame'>\n",
            "Float64Index: 2493 entries, 1.0 to 2493.0\n",
            "Data columns (total 2 columns):\n",
            " #   Column           Non-Null Count  Dtype \n",
            "---  ------           --------------  ----- \n",
            " 0   Kategori         2493 non-null   object\n",
            " 1   Article Content  2493 non-null   object\n",
            "dtypes: object(2)\n",
            "memory usage: 58.4+ KB\n"
          ]
        }
      ],
      "source": [
        "text_df.info()"
      ]
    },
    {
      "cell_type": "code",
      "execution_count": 98,
      "metadata": {
        "colab": {
          "base_uri": "https://localhost:8080/"
        },
        "id": "NBwiJr7DAPg5",
        "outputId": "e505e154-9135-4725-80ed-dc24f862a9b8"
      },
      "outputs": [
        {
          "output_type": "execute_result",
          "data": {
            "text/plain": [
              "Kategori           0\n",
              "Article Content    0\n",
              "dtype: int64"
            ]
          },
          "metadata": {},
          "execution_count": 98
        }
      ],
      "source": [
        "#missing values:\n",
        "text_df.isnull().sum()"
      ]
    },
    {
      "cell_type": "code",
      "execution_count": 99,
      "metadata": {
        "colab": {
          "base_uri": "https://localhost:8080/",
          "height": 226
        },
        "id": "dykPFez1APg6",
        "outputId": "1138f51d-9936-4f61-c120-c71d32701207"
      },
      "outputs": [
        {
          "output_type": "execute_result",
          "data": {
            "text/plain": [
              "'Pemerintah Provinsi DKI Jakarta melalui Kepala Dinas Pendidikan telah mengeluarkan aturan penyelenggaraan PTM Terbatas 2022. Aturan tersebut dikeluarkan melalui SK nomor 1363 tahun 2021 yang ditandatangani oleh Kadisdik Nahdiana 29 Desember 2021 lalu. Jika mengikuti kalender akademik dari Disdik DKI Jakarta, maka aturan tersebut sudah berlaku di sekolah Jakarta pada hari pertama atau awal semester genap TA 2021/2022 dimulai yakni Senin tanggal 3 Januari 2022. Berdasarkan SK yang dikeluarkan, sekolah di wilayah PPKM level 1 sampai 2 wajib menggelar sekolah tatap muka setiap hari dengan kapasitas siswa 100% dan durasi maksimal 6 jam pelajaran. Itu artinya seluruh wilayah DKI Jakarta yang saat ini berada pada PPKM level 1 sudah bisa menyelenggarakan PTM Terbatas dengan kapasitas siswa 100%. Bahkan siswa bisa melakukan sekolah tatap muka setiap hari dengan durasi belajar paling banyak 6 jam pelajaran per hari. Namun perlu dicatat, bahwa sekolah bisa mengikuti aturan 100% tersebut dengan syarat minimal 80% guru atau tenaga kependidikan di sekolah tersebut sudah menerima vaksin dosis 2. Selain itu, minimal 50% warga masyarakat di kabupaten atau kota tempat sekolah tersebut juga sudah divaksin. Sementara itu, untuk PTM Terbatas di dalam kelas harus dilaksanakan dengan tetap menerapkan protokol kesehatan diatur oleh Satuan Pendidikan, di antaranya: 1. Menggunakan masker sesuai ketentuan yaitu menutupi hidung, mulut dan dagu 2. Menerapkan jaga jarak antar orang dan/atau antar kursi/meja paling sedikit 1 (satu) meter 3. Menghindari kontak fisik 4. Tidak saling meminjam peralatan atau perlengkapan belajar 5. Tidak berbagi makanan dan minuman, serta tidak makan dan minum bersama secara berhadapan dan berdekatan 6. Menerapkan etika batuk dan bersin 7. Rutin membersihkan tangan Untuk kegiatan ekstrakurikuler dan olahraga di dalam dan di luar ruangan dilaksanakan sesuai dengan pengaturan pembelajaran di ruang kelas dengan menerapkan protokol kesehatan secara ketat. Kemudian, kegiatan pembelajaran di luar lingkungan satuan pendidikan tetap diperbolehkan sesuai dengan ketentuan pengaturan PPKM. Adapun bagi orang tua yang ingin mengantar-jemput siswa wajib melakukan di tempat yang telah ditentukan, dengan ketentuan sebagai berikut: - Tempat pengantaran dan penjemputan dilaksanakan di tempat terbuka dan cukup luas sehingga memungkinkan penerapan protokol kesehatan secara ketat - Jadwal kedatangan dan kepulangan peserta didik pada masing-masing kelompok belajar diatur untuk menghindari kerumunan pada saat pengantaran dan penjemputan. Agar pelaksanaan PTM Terbatas berjalan dengan lancar, pastikan guru, siswa, ataupun orang tua membaca aturan tiap poinnya dengan baik, ya!'"
            ],
            "application/vnd.google.colaboratory.intrinsic+json": {
              "type": "string"
            }
          },
          "metadata": {},
          "execution_count": 99
        }
      ],
      "source": [
        "text_df['Article Content'][3]"
      ]
    },
    {
      "cell_type": "code",
      "execution_count": 100,
      "metadata": {
        "colab": {
          "base_uri": "https://localhost:8080/"
        },
        "id": "eJ4u8fR2APg7",
        "outputId": "83640ec6-fe5e-4df3-8ffd-1a12e964eef4"
      },
      "outputs": [
        {
          "output_type": "stream",
          "name": "stderr",
          "text": [
            "/usr/local/lib/python3.7/dist-packages/ipykernel_launcher.py:1: SettingWithCopyWarning: \n",
            "A value is trying to be set on a copy of a slice from a DataFrame.\n",
            "Try using .loc[row_indexer,col_indexer] = value instead\n",
            "\n",
            "See the caveats in the documentation: https://pandas.pydata.org/pandas-docs/stable/user_guide/indexing.html#returning-a-view-versus-a-copy\n",
            "  \"\"\"Entry point for launching an IPython kernel.\n"
          ]
        }
      ],
      "source": [
        "text_df['Article Content'] = text_df['Article Content'].astype(str)"
      ]
    },
    {
      "cell_type": "code",
      "execution_count": 101,
      "metadata": {
        "colab": {
          "base_uri": "https://localhost:8080/"
        },
        "id": "VukxWu1kAPg7",
        "outputId": "e7778695-2741-421a-c9a5-a19ed3a5048d"
      },
      "outputs": [
        {
          "output_type": "stream",
          "name": "stdout",
          "text": [
            "718310\n"
          ]
        }
      ],
      "source": [
        "print(text_df['Article Content'].apply(lambda x: len(x.split(' '))).sum())"
      ]
    },
    {
      "cell_type": "code",
      "execution_count": 102,
      "metadata": {
        "colab": {
          "base_uri": "https://localhost:8080/",
          "height": 361
        },
        "id": "fF6nmjqlAPg9",
        "outputId": "1e567f20-7532-43cd-9e6c-1594f506d0bc"
      },
      "outputs": [
        {
          "output_type": "stream",
          "name": "stderr",
          "text": [
            "/usr/local/lib/python3.7/dist-packages/ipykernel_launcher.py:1: SettingWithCopyWarning: \n",
            "A value is trying to be set on a copy of a slice from a DataFrame.\n",
            "Try using .loc[row_indexer,col_indexer] = value instead\n",
            "\n",
            "See the caveats in the documentation: https://pandas.pydata.org/pandas-docs/stable/user_guide/indexing.html#returning-a-view-versus-a-copy\n",
            "  \"\"\"Entry point for launching an IPython kernel.\n"
          ]
        },
        {
          "output_type": "execute_result",
          "data": {
            "text/plain": [
              "      Kategori                                    Article Content  length\n",
              "Nomor                                                                    \n",
              "1.0        EDU  Meski banyak orang menganggap hobi hanya sebat...    3834\n",
              "2.0        EDU  Institut Teknologi Nasional (ITN) Yogyakarta m...    2511\n",
              "3.0        EDU  Pemerintah Provinsi DKI Jakarta melalui Kepala...    2698\n",
              "4.0        EDU  Tanaman bakau adalah salah satu ekosistem yang...    2535\n",
              "5.0        EDU  Membuat Curriculum Vitae (CV) dan surat lamara...    2247"
            ],
            "text/html": [
              "\n",
              "  <div id=\"df-05ff5282-43be-40a6-a05e-8f724b7225e0\">\n",
              "    <div class=\"colab-df-container\">\n",
              "      <div>\n",
              "<style scoped>\n",
              "    .dataframe tbody tr th:only-of-type {\n",
              "        vertical-align: middle;\n",
              "    }\n",
              "\n",
              "    .dataframe tbody tr th {\n",
              "        vertical-align: top;\n",
              "    }\n",
              "\n",
              "    .dataframe thead th {\n",
              "        text-align: right;\n",
              "    }\n",
              "</style>\n",
              "<table border=\"1\" class=\"dataframe\">\n",
              "  <thead>\n",
              "    <tr style=\"text-align: right;\">\n",
              "      <th></th>\n",
              "      <th>Kategori</th>\n",
              "      <th>Article Content</th>\n",
              "      <th>length</th>\n",
              "    </tr>\n",
              "    <tr>\n",
              "      <th>Nomor</th>\n",
              "      <th></th>\n",
              "      <th></th>\n",
              "      <th></th>\n",
              "    </tr>\n",
              "  </thead>\n",
              "  <tbody>\n",
              "    <tr>\n",
              "      <th>1.0</th>\n",
              "      <td>EDU</td>\n",
              "      <td>Meski banyak orang menganggap hobi hanya sebat...</td>\n",
              "      <td>3834</td>\n",
              "    </tr>\n",
              "    <tr>\n",
              "      <th>2.0</th>\n",
              "      <td>EDU</td>\n",
              "      <td>Institut Teknologi Nasional (ITN) Yogyakarta m...</td>\n",
              "      <td>2511</td>\n",
              "    </tr>\n",
              "    <tr>\n",
              "      <th>3.0</th>\n",
              "      <td>EDU</td>\n",
              "      <td>Pemerintah Provinsi DKI Jakarta melalui Kepala...</td>\n",
              "      <td>2698</td>\n",
              "    </tr>\n",
              "    <tr>\n",
              "      <th>4.0</th>\n",
              "      <td>EDU</td>\n",
              "      <td>Tanaman bakau adalah salah satu ekosistem yang...</td>\n",
              "      <td>2535</td>\n",
              "    </tr>\n",
              "    <tr>\n",
              "      <th>5.0</th>\n",
              "      <td>EDU</td>\n",
              "      <td>Membuat Curriculum Vitae (CV) dan surat lamara...</td>\n",
              "      <td>2247</td>\n",
              "    </tr>\n",
              "  </tbody>\n",
              "</table>\n",
              "</div>\n",
              "      <button class=\"colab-df-convert\" onclick=\"convertToInteractive('df-05ff5282-43be-40a6-a05e-8f724b7225e0')\"\n",
              "              title=\"Convert this dataframe to an interactive table.\"\n",
              "              style=\"display:none;\">\n",
              "        \n",
              "  <svg xmlns=\"http://www.w3.org/2000/svg\" height=\"24px\"viewBox=\"0 0 24 24\"\n",
              "       width=\"24px\">\n",
              "    <path d=\"M0 0h24v24H0V0z\" fill=\"none\"/>\n",
              "    <path d=\"M18.56 5.44l.94 2.06.94-2.06 2.06-.94-2.06-.94-.94-2.06-.94 2.06-2.06.94zm-11 1L8.5 8.5l.94-2.06 2.06-.94-2.06-.94L8.5 2.5l-.94 2.06-2.06.94zm10 10l.94 2.06.94-2.06 2.06-.94-2.06-.94-.94-2.06-.94 2.06-2.06.94z\"/><path d=\"M17.41 7.96l-1.37-1.37c-.4-.4-.92-.59-1.43-.59-.52 0-1.04.2-1.43.59L10.3 9.45l-7.72 7.72c-.78.78-.78 2.05 0 2.83L4 21.41c.39.39.9.59 1.41.59.51 0 1.02-.2 1.41-.59l7.78-7.78 2.81-2.81c.8-.78.8-2.07 0-2.86zM5.41 20L4 18.59l7.72-7.72 1.47 1.35L5.41 20z\"/>\n",
              "  </svg>\n",
              "      </button>\n",
              "      \n",
              "  <style>\n",
              "    .colab-df-container {\n",
              "      display:flex;\n",
              "      flex-wrap:wrap;\n",
              "      gap: 12px;\n",
              "    }\n",
              "\n",
              "    .colab-df-convert {\n",
              "      background-color: #E8F0FE;\n",
              "      border: none;\n",
              "      border-radius: 50%;\n",
              "      cursor: pointer;\n",
              "      display: none;\n",
              "      fill: #1967D2;\n",
              "      height: 32px;\n",
              "      padding: 0 0 0 0;\n",
              "      width: 32px;\n",
              "    }\n",
              "\n",
              "    .colab-df-convert:hover {\n",
              "      background-color: #E2EBFA;\n",
              "      box-shadow: 0px 1px 2px rgba(60, 64, 67, 0.3), 0px 1px 3px 1px rgba(60, 64, 67, 0.15);\n",
              "      fill: #174EA6;\n",
              "    }\n",
              "\n",
              "    [theme=dark] .colab-df-convert {\n",
              "      background-color: #3B4455;\n",
              "      fill: #D2E3FC;\n",
              "    }\n",
              "\n",
              "    [theme=dark] .colab-df-convert:hover {\n",
              "      background-color: #434B5C;\n",
              "      box-shadow: 0px 1px 3px 1px rgba(0, 0, 0, 0.15);\n",
              "      filter: drop-shadow(0px 1px 2px rgba(0, 0, 0, 0.3));\n",
              "      fill: #FFFFFF;\n",
              "    }\n",
              "  </style>\n",
              "\n",
              "      <script>\n",
              "        const buttonEl =\n",
              "          document.querySelector('#df-05ff5282-43be-40a6-a05e-8f724b7225e0 button.colab-df-convert');\n",
              "        buttonEl.style.display =\n",
              "          google.colab.kernel.accessAllowed ? 'block' : 'none';\n",
              "\n",
              "        async function convertToInteractive(key) {\n",
              "          const element = document.querySelector('#df-05ff5282-43be-40a6-a05e-8f724b7225e0');\n",
              "          const dataTable =\n",
              "            await google.colab.kernel.invokeFunction('convertToInteractive',\n",
              "                                                     [key], {});\n",
              "          if (!dataTable) return;\n",
              "\n",
              "          const docLinkHtml = 'Like what you see? Visit the ' +\n",
              "            '<a target=\"_blank\" href=https://colab.research.google.com/notebooks/data_table.ipynb>data table notebook</a>'\n",
              "            + ' to learn more about interactive tables.';\n",
              "          element.innerHTML = '';\n",
              "          dataTable['output_type'] = 'display_data';\n",
              "          await google.colab.output.renderOutput(dataTable, element);\n",
              "          const docLink = document.createElement('div');\n",
              "          docLink.innerHTML = docLinkHtml;\n",
              "          element.appendChild(docLink);\n",
              "        }\n",
              "      </script>\n",
              "    </div>\n",
              "  </div>\n",
              "  "
            ]
          },
          "metadata": {},
          "execution_count": 102
        }
      ],
      "source": [
        "text_df['length'] = text_df['Article Content'].apply(len)\n",
        "text_df.head()"
      ]
    },
    {
      "cell_type": "code",
      "execution_count": 103,
      "metadata": {
        "colab": {
          "base_uri": "https://localhost:8080/"
        },
        "id": "Blvnz5gfAPg9",
        "outputId": "a787eaab-df91-402f-87c9-5128ccb75c03"
      },
      "outputs": [
        {
          "output_type": "execute_result",
          "data": {
            "text/plain": [
              "array(['EDU', 'HOT', 'FNC', 'NEWS', 'BOLA', 'OTO'], dtype=object)"
            ]
          },
          "metadata": {},
          "execution_count": 103
        }
      ],
      "source": [
        "text_df.Kategori.unique()"
      ]
    },
    {
      "cell_type": "code",
      "execution_count": 104,
      "metadata": {
        "colab": {
          "base_uri": "https://localhost:8080/"
        },
        "id": "KndzMmVIAPg9",
        "outputId": "4704b0fb-8d0d-42d2-a88b-96694b8a840e"
      },
      "outputs": [
        {
          "output_type": "execute_result",
          "data": {
            "text/plain": [
              "HOT     501\n",
              "NEWS    500\n",
              "EDU     498\n",
              "FNC     480\n",
              "OTO     304\n",
              "BOLA    210\n",
              "Name: Kategori, dtype: int64"
            ]
          },
          "metadata": {},
          "execution_count": 104
        }
      ],
      "source": [
        "text_df.Kategori.value_counts()"
      ]
    },
    {
      "cell_type": "code",
      "execution_count": 105,
      "metadata": {
        "colab": {
          "base_uri": "https://localhost:8080/",
          "height": 294
        },
        "id": "mJFB8SXaAPg-",
        "outputId": "4d09f4b5-19b1-4139-9b45-b94bb64b66e3"
      },
      "outputs": [
        {
          "output_type": "display_data",
          "data": {
            "text/plain": [
              "<Figure size 432x288 with 1 Axes>"
            ],
            "image/png": "[encoded data removed]"
          },
          "metadata": {
            "needs_background": "light"
          }
        }
      ],
      "source": [
        "#Visualisasi data dalam bentuk diagram\n",
        "sns.countplot(x='Kategori',data=text_df)\n",
        "plt.xlabel('Type of product')\n",
        "plt.title('Number of products in each group');"
      ]
    },
    {
      "cell_type": "code",
      "execution_count": 106,
      "metadata": {
        "colab": {
          "base_uri": "https://localhost:8080/",
          "height": 733
        },
        "id": "DBVazJP6APg-",
        "outputId": "28229238-afd6-4e4b-b25c-575c7d692f2e"
      },
      "outputs": [
        {
          "output_type": "display_data",
          "data": {
            "text/plain": [
              "<Figure size 864x864 with 6 Axes>"
            ],
            "image/png": "[encoded data removed]"
          },
          "metadata": {
            "needs_background": "light"
          }
        }
      ],
      "source": [
        "# Visualisasi data dalam bentuk Histogram\n",
        "text_df.hist(column='length', by='Kategori', bins=50,figsize=(12,12));"
      ]
    },
    {
      "cell_type": "markdown",
      "metadata": {
        "id": "-DWOADEZAPg-"
      },
      "source": [
        "# Text Pre-processing"
      ]
    },
    {
      "cell_type": "markdown",
      "metadata": {
        "id": "AlxbmraAAPg_"
      },
      "source": [
        "# **Stemming**"
      ]
    },
    {
      "cell_type": "code",
      "execution_count": 107,
      "metadata": {
        "colab": {
          "base_uri": "https://localhost:8080/"
        },
        "id": "6L1j06NLAPhA",
        "outputId": "4739ddf0-95f0-4a39-8a5d-83b1f8bd2949"
      },
      "outputs": [
        {
          "output_type": "stream",
          "name": "stdout",
          "text": [
            "['ada', 'akhiri', 'antaranya', 'atas', 'bagaimanapun', 'banyak', 'begitukah', 'benarlah', 'berawal', 'berkehendak', 'bermula', 'berujar', 'bisakah', 'bung', 'dapat', 'di', 'dibuat', 'dijawab', 'dilakukan', 'dimulai', 'diperlihatkan', 'disebutkan', 'ditujukan', 'diungkapkan', 'gunakan', 'hendaklah', 'ingat', 'itulah', 'jawabnya', 'justru', 'kan', 'katanya', 'kelihatannya', 'kesampaian', 'kiranya', 'lalu', 'maka', 'masa', 'melakukan', 'memihak', 'mempertanyakan', 'menanya', 'mengapa', 'mengingat', 'menuju', 'menyebutkan', 'meyakinkan', 'mungkin', 'olehnya', 'pastilah', 'pertama', 'rasa', 'sama-sama', 'sayalah', 'sebaiknya', 'sebetulnya', 'sedemikian', 'sejak', 'sekalipun', 'sela', 'semacam', 'semisal', 'seolah-olah', 'seringnya', 'sesuatunya', 'setidak-tidaknya', 'sinilah', 'tahu', 'tanya', 'tentu', 'terhadap', 'terlihat', 'tetap', 'toh', 'umumnya', 'waktunya']\n"
          ]
        }
      ],
      "source": [
        "stop = stopwords.words('indonesian')\n",
        "print(stop[::10])\n",
        "\n",
        "porter = PorterStemmer()"
      ]
    },
    {
      "cell_type": "code",
      "execution_count": 108,
      "metadata": {
        "id": "L4rbOJMCAPhA"
      },
      "outputs": [],
      "source": [
        "def remove_punctuation(description):\n",
        "    \"\"\"The function to remove punctuation\"\"\"\n",
        "    table = str.maketrans('', '', string.punctuation)\n",
        "    return description.translate(table)\n",
        "\n",
        "def remove_stopwords(text):\n",
        "    \"\"\"The function to removing stopwords\"\"\"\n",
        "    text = [word.lower() for word in text.split() if word.lower() not in stop]\n",
        "    return \" \".join(text)\n",
        "\n",
        "def stemmer(stem_text):\n",
        "    \"\"\"The function to apply stemming\"\"\"\n",
        "    stem_text = [porter.stem(word) for word in stem_text.split()]\n",
        "    return \" \".join(stem_text)"
      ]
    },
    {
      "cell_type": "code",
      "execution_count": 109,
      "metadata": {
        "colab": {
          "base_uri": "https://localhost:8080/"
        },
        "id": "W-gdSRIFAPhB",
        "outputId": "8d62ed04-68d1-42f7-9035-68c83334a453"
      },
      "outputs": [
        {
          "output_type": "stream",
          "name": "stderr",
          "text": [
            "/usr/local/lib/python3.7/dist-packages/ipykernel_launcher.py:1: SettingWithCopyWarning: \n",
            "A value is trying to be set on a copy of a slice from a DataFrame.\n",
            "Try using .loc[row_indexer,col_indexer] = value instead\n",
            "\n",
            "See the caveats in the documentation: https://pandas.pydata.org/pandas-docs/stable/user_guide/indexing.html#returning-a-view-versus-a-copy\n",
            "  \"\"\"Entry point for launching an IPython kernel.\n",
            "/usr/local/lib/python3.7/dist-packages/ipykernel_launcher.py:2: SettingWithCopyWarning: \n",
            "A value is trying to be set on a copy of a slice from a DataFrame.\n",
            "Try using .loc[row_indexer,col_indexer] = value instead\n",
            "\n",
            "See the caveats in the documentation: https://pandas.pydata.org/pandas-docs/stable/user_guide/indexing.html#returning-a-view-versus-a-copy\n",
            "  \n",
            "/usr/local/lib/python3.7/dist-packages/ipykernel_launcher.py:3: SettingWithCopyWarning: \n",
            "A value is trying to be set on a copy of a slice from a DataFrame.\n",
            "Try using .loc[row_indexer,col_indexer] = value instead\n",
            "\n",
            "See the caveats in the documentation: https://pandas.pydata.org/pandas-docs/stable/user_guide/indexing.html#returning-a-view-versus-a-copy\n",
            "  This is separate from the ipykernel package so we can avoid doing imports until\n"
          ]
        }
      ],
      "source": [
        "text_df['Article Content'] = text_df['Article Content'].apply(remove_punctuation)\n",
        "text_df['Article Content'] = text_df['Article Content'].apply(remove_stopwords)\n",
        "text_df['Article Content'] = text_df['Article Content'].apply(stemmer)"
      ]
    },
    {
      "cell_type": "code",
      "execution_count": 110,
      "metadata": {
        "colab": {
          "base_uri": "https://localhost:8080/",
          "height": 237
        },
        "id": "lp7SXocAAPhB",
        "outputId": "a0e2ae73-f08e-440b-acb9-dc29771254b4"
      },
      "outputs": [
        {
          "output_type": "execute_result",
          "data": {
            "text/plain": [
              "      Kategori                                    Article Content  length\n",
              "Nomor                                                                    \n",
              "1.0        EDU  orang menganggap hobi sebata hiburan menghilan...    3834\n",
              "2.0        EDU  institut teknolog nasion itn yogyakarta membuk...    2511\n",
              "3.0        EDU  pemerintah provinsi dki jakarta kepala dina pe...    2698\n",
              "4.0        EDU  tanaman bakau salah ekosistem tumbuh muara sun...    2535\n",
              "5.0        EDU  curriculum vita cv surat lamaran kerja efektif...    2247"
            ],
            "text/html": [
              "\n",
              "  <div id=\"df-c468590b-68e3-416f-93fa-40d21a4d6850\">\n",
              "    <div class=\"colab-df-container\">\n",
              "      <div>\n",
              "<style scoped>\n",
              "    .dataframe tbody tr th:only-of-type {\n",
              "        vertical-align: middle;\n",
              "    }\n",
              "\n",
              "    .dataframe tbody tr th {\n",
              "        vertical-align: top;\n",
              "    }\n",
              "\n",
              "    .dataframe thead th {\n",
              "        text-align: right;\n",
              "    }\n",
              "</style>\n",
              "<table border=\"1\" class=\"dataframe\">\n",
              "  <thead>\n",
              "    <tr style=\"text-align: right;\">\n",
              "      <th></th>\n",
              "      <th>Kategori</th>\n",
              "      <th>Article Content</th>\n",
              "      <th>length</th>\n",
              "    </tr>\n",
              "    <tr>\n",
              "      <th>Nomor</th>\n",
              "      <th></th>\n",
              "      <th></th>\n",
              "      <th></th>\n",
              "    </tr>\n",
              "  </thead>\n",
              "  <tbody>\n",
              "    <tr>\n",
              "      <th>1.0</th>\n",
              "      <td>EDU</td>\n",
              "      <td>orang menganggap hobi sebata hiburan menghilan...</td>\n",
              "      <td>3834</td>\n",
              "    </tr>\n",
              "    <tr>\n",
              "      <th>2.0</th>\n",
              "      <td>EDU</td>\n",
              "      <td>institut teknolog nasion itn yogyakarta membuk...</td>\n",
              "      <td>2511</td>\n",
              "    </tr>\n",
              "    <tr>\n",
              "      <th>3.0</th>\n",
              "      <td>EDU</td>\n",
              "      <td>pemerintah provinsi dki jakarta kepala dina pe...</td>\n",
              "      <td>2698</td>\n",
              "    </tr>\n",
              "    <tr>\n",
              "      <th>4.0</th>\n",
              "      <td>EDU</td>\n",
              "      <td>tanaman bakau salah ekosistem tumbuh muara sun...</td>\n",
              "      <td>2535</td>\n",
              "    </tr>\n",
              "    <tr>\n",
              "      <th>5.0</th>\n",
              "      <td>EDU</td>\n",
              "      <td>curriculum vita cv surat lamaran kerja efektif...</td>\n",
              "      <td>2247</td>\n",
              "    </tr>\n",
              "  </tbody>\n",
              "</table>\n",
              "</div>\n",
              "      <button class=\"colab-df-convert\" onclick=\"convertToInteractive('df-c468590b-68e3-416f-93fa-40d21a4d6850')\"\n",
              "              title=\"Convert this dataframe to an interactive table.\"\n",
              "              style=\"display:none;\">\n",
              "        \n",
              "  <svg xmlns=\"http://www.w3.org/2000/svg\" height=\"24px\"viewBox=\"0 0 24 24\"\n",
              "       width=\"24px\">\n",
              "    <path d=\"M0 0h24v24H0V0z\" fill=\"none\"/>\n",
              "    <path d=\"M18.56 5.44l.94 2.06.94-2.06 2.06-.94-2.06-.94-.94-2.06-.94 2.06-2.06.94zm-11 1L8.5 8.5l.94-2.06 2.06-.94-2.06-.94L8.5 2.5l-.94 2.06-2.06.94zm10 10l.94 2.06.94-2.06 2.06-.94-2.06-.94-.94-2.06-.94 2.06-2.06.94z\"/><path d=\"M17.41 7.96l-1.37-1.37c-.4-.4-.92-.59-1.43-.59-.52 0-1.04.2-1.43.59L10.3 9.45l-7.72 7.72c-.78.78-.78 2.05 0 2.83L4 21.41c.39.39.9.59 1.41.59.51 0 1.02-.2 1.41-.59l7.78-7.78 2.81-2.81c.8-.78.8-2.07 0-2.86zM5.41 20L4 18.59l7.72-7.72 1.47 1.35L5.41 20z\"/>\n",
              "  </svg>\n",
              "      </button>\n",
              "      \n",
              "  <style>\n",
              "    .colab-df-container {\n",
              "      display:flex;\n",
              "      flex-wrap:wrap;\n",
              "      gap: 12px;\n",
              "    }\n",
              "\n",
              "    .colab-df-convert {\n",
              "      background-color: #E8F0FE;\n",
              "      border: none;\n",
              "      border-radius: 50%;\n",
              "      cursor: pointer;\n",
              "      display: none;\n",
              "      fill: #1967D2;\n",
              "      height: 32px;\n",
              "      padding: 0 0 0 0;\n",
              "      width: 32px;\n",
              "    }\n",
              "\n",
              "    .colab-df-convert:hover {\n",
              "      background-color: #E2EBFA;\n",
              "      box-shadow: 0px 1px 2px rgba(60, 64, 67, 0.3), 0px 1px 3px 1px rgba(60, 64, 67, 0.15);\n",
              "      fill: #174EA6;\n",
              "    }\n",
              "\n",
              "    [theme=dark] .colab-df-convert {\n",
              "      background-color: #3B4455;\n",
              "      fill: #D2E3FC;\n",
              "    }\n",
              "\n",
              "    [theme=dark] .colab-df-convert:hover {\n",
              "      background-color: #434B5C;\n",
              "      box-shadow: 0px 1px 3px 1px rgba(0, 0, 0, 0.15);\n",
              "      filter: drop-shadow(0px 1px 2px rgba(0, 0, 0, 0.3));\n",
              "      fill: #FFFFFF;\n",
              "    }\n",
              "  </style>\n",
              "\n",
              "      <script>\n",
              "        const buttonEl =\n",
              "          document.querySelector('#df-c468590b-68e3-416f-93fa-40d21a4d6850 button.colab-df-convert');\n",
              "        buttonEl.style.display =\n",
              "          google.colab.kernel.accessAllowed ? 'block' : 'none';\n",
              "\n",
              "        async function convertToInteractive(key) {\n",
              "          const element = document.querySelector('#df-c468590b-68e3-416f-93fa-40d21a4d6850');\n",
              "          const dataTable =\n",
              "            await google.colab.kernel.invokeFunction('convertToInteractive',\n",
              "                                                     [key], {});\n",
              "          if (!dataTable) return;\n",
              "\n",
              "          const docLinkHtml = 'Like what you see? Visit the ' +\n",
              "            '<a target=\"_blank\" href=https://colab.research.google.com/notebooks/data_table.ipynb>data table notebook</a>'\n",
              "            + ' to learn more about interactive tables.';\n",
              "          element.innerHTML = '';\n",
              "          dataTable['output_type'] = 'display_data';\n",
              "          await google.colab.output.renderOutput(dataTable, element);\n",
              "          const docLink = document.createElement('div');\n",
              "          docLink.innerHTML = docLinkHtml;\n",
              "          element.appendChild(docLink);\n",
              "        }\n",
              "      </script>\n",
              "    </div>\n",
              "  </div>\n",
              "  "
            ]
          },
          "metadata": {},
          "execution_count": 110
        }
      ],
      "source": [
        "text_df.head()"
      ]
    },
    {
      "cell_type": "code",
      "execution_count": 111,
      "metadata": {
        "colab": {
          "base_uri": "https://localhost:8080/",
          "height": 226
        },
        "id": "XQQXw6yHAPhC",
        "outputId": "671ff7d9-6c2b-43e7-dd93-32d5987e8fd0"
      },
      "outputs": [
        {
          "output_type": "execute_result",
          "data": {
            "text/plain": [
              "'pemerintah provinsi dki jakarta kepala dina pendidikan mengeluarkan aturan penyelenggaraan ptm terbata 2022 aturan dikeluarkan sk nomor 1363 2021 ditandatangani kadisdik nahdiana 29 desemb 2021 mengikuti kalend akademik disdik dki jakarta aturan berlaku sekolah jakarta semest genap ta 20212022 senin tanggal 3 januari 2022 berdasarkan sk dikeluarkan sekolah wilayah ppkm level 1 2 wajib menggelar sekolah tatap muka kapasita siswa 100 durasi maksim 6 jam pelajaran wilayah dki jakarta ppkm level 1 menyelenggarakan ptm terbata kapasita siswa 100 siswa sekolah tatap muka durasi belajar 6 jam pelajaran dicatat sekolah mengikuti aturan 100 syarat minim 80 guru tenaga kependidikan sekolah menerima vaksin dosi 2 minim 50 warga masyarakat kabupaten kota sekolah divaksin ptm terbata kela dilaksanakan menerapkan protokol kesehatan diatur satuan pendidikan 1 masker sesuai ketentuan menutupi hidung mulut dagu 2 menerapkan jaga jarak orang danatau kursimeja 1 meter 3 menghindari kontak fisik 4 meminjam peralatan perlengkapan belajar 5 berbagi makanan minuman makan minum berhadapan berdekatan 6 menerapkan etika batuk bersin 7 rutin membersihkan tangan kegiatan ekstrakurikul olahraga ruangan dilaksanakan sesuai pengaturan pembelajaran ruang kela menerapkan protokol kesehatan ketat kegiatan pembelajaran lingkungan satuan pendidikan diperbolehkan sesuai ketentuan pengaturan ppkm orang tua mengantarjemput siswa wajib ditentukan ketentuan pengantaran penjemputan dilaksanakan terbuka lua penerapan protokol kesehatan ketat jadwal kedatangan kepulangan peserta didik masingmas kelompok belajar diatur menghindari kerumunan pengantaran penjemputan pelaksanaan ptm terbata berjalan lancar pastikan guru siswa orang tua membaca aturan poinnya ya'"
            ],
            "application/vnd.google.colaboratory.intrinsic+json": {
              "type": "string"
            }
          },
          "metadata": {},
          "execution_count": 111
        }
      ],
      "source": [
        "text_df['Article Content'][3]"
      ]
    },
    {
      "cell_type": "markdown",
      "metadata": {
        "id": "G_Ud7Kp5APhC"
      },
      "source": [
        "**# Pos Tagging**"
      ]
    },
    {
      "cell_type": "code",
      "execution_count": 112,
      "metadata": {
        "colab": {
          "base_uri": "https://localhost:8080/"
        },
        "id": "qIDZb_rsAPhC",
        "outputId": "8c4b8e82-5552-49b1-e648-bcedfc6a92c0"
      },
      "outputs": [
        {
          "output_type": "execute_result",
          "data": {
            "text/plain": [
              "[('pemerintah', 'NN'),\n",
              " ('provinsi', 'NN'),\n",
              " ('dki', 'NN'),\n",
              " ('jakarta', 'NN'),\n",
              " ('kepala', 'NN'),\n",
              " ('dina', 'NN'),\n",
              " ('pendidikan', 'NN'),\n",
              " ('mengeluarkan', 'NN'),\n",
              " ('aturan', 'NN'),\n",
              " ('penyelenggaraan', 'NN'),\n",
              " ('ptm', 'NN'),\n",
              " ('terbata', 'NN'),\n",
              " ('2022', 'CD'),\n",
              " ('aturan', 'NN'),\n",
              " ('dikeluarkan', 'NN'),\n",
              " ('sk', 'NN'),\n",
              " ('nomor', 'NN'),\n",
              " ('1363', 'CD'),\n",
              " ('2021', 'CD'),\n",
              " ('ditandatangani', 'NN'),\n",
              " ('kadisdik', 'VBD'),\n",
              " ('nahdiana', 'JJ'),\n",
              " ('29', 'CD'),\n",
              " ('desemb', 'NN'),\n",
              " ('2021', 'CD'),\n",
              " ('mengikuti', 'NN'),\n",
              " ('kalend', 'VB'),\n",
              " ('akademik', 'JJ'),\n",
              " ('disdik', 'NN'),\n",
              " ('dki', 'NN'),\n",
              " ('jakarta', 'NN'),\n",
              " ('aturan', 'NN'),\n",
              " ('berlaku', 'NN'),\n",
              " ('sekolah', 'NN'),\n",
              " ('jakarta', 'NN'),\n",
              " ('semest', 'JJS'),\n",
              " ('genap', 'NN'),\n",
              " ('ta', 'NN'),\n",
              " ('20212022', 'CD'),\n",
              " ('senin', 'NN'),\n",
              " ('tanggal', 'NN'),\n",
              " ('3', 'CD'),\n",
              " ('januari', 'NN'),\n",
              " ('2022', 'CD'),\n",
              " ('berdasarkan', 'NN'),\n",
              " ('sk', 'NN'),\n",
              " ('dikeluarkan', 'NN'),\n",
              " ('sekolah', 'NN'),\n",
              " ('wilayah', 'NN'),\n",
              " ('ppkm', 'VBP'),\n",
              " ('level', 'NN'),\n",
              " ('1', 'CD'),\n",
              " ('2', 'CD'),\n",
              " ('wajib', 'NN'),\n",
              " ('menggelar', 'JJ'),\n",
              " ('sekolah', 'NN'),\n",
              " ('tatap', 'NN'),\n",
              " ('muka', 'NN'),\n",
              " ('kapasita', 'VBD'),\n",
              " ('siswa', 'JJ'),\n",
              " ('100', 'CD'),\n",
              " ('durasi', 'NN'),\n",
              " ('maksim', 'NN'),\n",
              " ('6', 'CD'),\n",
              " ('jam', 'NN'),\n",
              " ('pelajaran', 'NN'),\n",
              " ('wilayah', 'NN'),\n",
              " ('dki', 'NN'),\n",
              " ('jakarta', 'NN'),\n",
              " ('ppkm', 'VBP'),\n",
              " ('level', 'NN'),\n",
              " ('1', 'CD'),\n",
              " ('menyelenggarakan', 'JJ'),\n",
              " ('ptm', 'NN'),\n",
              " ('terbata', 'NN'),\n",
              " ('kapasita', 'VBD'),\n",
              " ('siswa', 'JJ'),\n",
              " ('100', 'CD'),\n",
              " ('siswa', 'NN'),\n",
              " ('sekolah', 'NN'),\n",
              " ('tatap', 'NN'),\n",
              " ('muka', 'NN'),\n",
              " ('durasi', 'NN'),\n",
              " ('belajar', 'VBD'),\n",
              " ('6', 'CD'),\n",
              " ('jam', 'NN'),\n",
              " ('pelajaran', 'NN'),\n",
              " ('dicatat', 'NN'),\n",
              " ('sekolah', 'NN'),\n",
              " ('mengikuti', 'NN'),\n",
              " ('aturan', 'VBD'),\n",
              " ('100', 'CD'),\n",
              " ('syarat', 'NN'),\n",
              " ('minim', 'NN'),\n",
              " ('80', 'CD'),\n",
              " ('guru', 'NN'),\n",
              " ('tenaga', 'NN'),\n",
              " ('kependidikan', 'NN'),\n",
              " ('sekolah', 'NN'),\n",
              " ('menerima', 'NN'),\n",
              " ('vaksin', 'NN'),\n",
              " ('dosi', 'VBD'),\n",
              " ('2', 'CD'),\n",
              " ('minim', 'NN'),\n",
              " ('50', 'CD'),\n",
              " ('warga', 'NN'),\n",
              " ('masyarakat', 'NN'),\n",
              " ('kabupaten', 'VB'),\n",
              " ('kota', 'JJ'),\n",
              " ('sekolah', 'NN'),\n",
              " ('divaksin', 'NN'),\n",
              " ('ptm', 'NN'),\n",
              " ('terbata', 'NN'),\n",
              " ('kela', 'NN'),\n",
              " ('dilaksanakan', 'NN'),\n",
              " ('menerapkan', 'NN'),\n",
              " ('protokol', 'NN'),\n",
              " ('kesehatan', 'NN'),\n",
              " ('diatur', 'NN'),\n",
              " ('satuan', 'JJ'),\n",
              " ('pendidikan', 'NN'),\n",
              " ('1', 'CD'),\n",
              " ('masker', 'NN'),\n",
              " ('sesuai', 'NN'),\n",
              " ('ketentuan', 'JJ'),\n",
              " ('menutupi', 'NN'),\n",
              " ('hidung', 'NN'),\n",
              " ('mulut', 'NN'),\n",
              " ('dagu', 'VBZ'),\n",
              " ('2', 'CD'),\n",
              " ('menerapkan', 'NN'),\n",
              " ('jaga', 'NN'),\n",
              " ('jarak', 'NN'),\n",
              " ('orang', 'NN'),\n",
              " ('danatau', 'NN'),\n",
              " ('kursimeja', 'VBD'),\n",
              " ('1', 'CD'),\n",
              " ('meter', 'NN'),\n",
              " ('3', 'CD'),\n",
              " ('menghindari', 'NN'),\n",
              " ('kontak', 'NN'),\n",
              " ('fisik', 'VBD'),\n",
              " ('4', 'CD'),\n",
              " ('meminjam', 'NN'),\n",
              " ('peralatan', 'NN'),\n",
              " ('perlengkapan', 'NN'),\n",
              " ('belajar', 'VBD'),\n",
              " ('5', 'CD'),\n",
              " ('berbagi', 'NN'),\n",
              " ('makanan', 'NN'),\n",
              " ('minuman', 'NN'),\n",
              " ('makan', 'NN'),\n",
              " ('minum', 'NN'),\n",
              " ('berhadapan', 'NN'),\n",
              " ('berdekatan', 'VBD'),\n",
              " ('6', 'CD'),\n",
              " ('menerapkan', 'JJ'),\n",
              " ('etika', 'FW'),\n",
              " ('batuk', 'NN'),\n",
              " ('bersin', 'NN'),\n",
              " ('7', 'CD'),\n",
              " ('rutin', 'NN'),\n",
              " ('membersihkan', 'NN'),\n",
              " ('tangan', 'JJ'),\n",
              " ('kegiatan', 'JJ'),\n",
              " ('ekstrakurikul', 'NN'),\n",
              " ('olahraga', 'NN'),\n",
              " ('ruangan', 'NN'),\n",
              " ('dilaksanakan', 'JJ'),\n",
              " ('sesuai', 'NN'),\n",
              " ('pengaturan', 'NN'),\n",
              " ('pembelajaran', 'NN'),\n",
              " ('ruang', 'NN'),\n",
              " ('kela', 'VBD'),\n",
              " ('menerapkan', 'JJ'),\n",
              " ('protokol', 'NN'),\n",
              " ('kesehatan', 'NN'),\n",
              " ('ketat', 'NN'),\n",
              " ('kegiatan', 'NN'),\n",
              " ('pembelajaran', 'NN'),\n",
              " ('lingkungan', 'JJ'),\n",
              " ('satuan', 'JJ'),\n",
              " ('pendidikan', 'NN'),\n",
              " ('diperbolehkan', 'NN'),\n",
              " ('sesuai', 'NN'),\n",
              " ('ketentuan', 'NN'),\n",
              " ('pengaturan', 'NN'),\n",
              " ('ppkm', 'NN'),\n",
              " ('orang', 'NN'),\n",
              " ('tua', 'NN'),\n",
              " ('mengantarjemput', 'VBD'),\n",
              " ('siswa', 'JJ'),\n",
              " ('wajib', 'NN'),\n",
              " ('ditentukan', 'NN'),\n",
              " ('ketentuan', 'NN'),\n",
              " ('pengantaran', 'NN'),\n",
              " ('penjemputan', 'NN'),\n",
              " ('dilaksanakan', 'NN'),\n",
              " ('terbuka', 'NN'),\n",
              " ('lua', 'NN'),\n",
              " ('penerapan', 'NN'),\n",
              " ('protokol', 'NN'),\n",
              " ('kesehatan', 'NN'),\n",
              " ('ketat', 'NN'),\n",
              " ('jadwal', 'NN'),\n",
              " ('kedatangan', 'VBD'),\n",
              " ('kepulangan', 'JJ'),\n",
              " ('peserta', 'JJ'),\n",
              " ('didik', 'NN'),\n",
              " ('masingmas', 'NN'),\n",
              " ('kelompok', 'NN'),\n",
              " ('belajar', 'NN'),\n",
              " ('diatur', 'NN'),\n",
              " ('menghindari', 'NN'),\n",
              " ('kerumunan', 'NN'),\n",
              " ('pengantaran', 'NN'),\n",
              " ('penjemputan', 'NN'),\n",
              " ('pelaksanaan', 'NN'),\n",
              " ('ptm', 'NN'),\n",
              " ('terbata', 'NN'),\n",
              " ('berjalan', 'NN'),\n",
              " ('lancar', 'NN'),\n",
              " ('pastikan', 'NN'),\n",
              " ('guru', 'NN'),\n",
              " ('siswa', 'NN'),\n",
              " ('orang', 'NN'),\n",
              " ('tua', 'NN'),\n",
              " ('membaca', 'NN'),\n",
              " ('aturan', 'NN'),\n",
              " ('poinnya', 'NN'),\n",
              " ('ya', 'NN')]"
            ]
          },
          "metadata": {},
          "execution_count": 112
        }
      ],
      "source": [
        "tokens = text_df['Article Content'][3]\n",
        "\n",
        "nltk.pos_tag(word_tokenize(tokens))"
      ]
    },
    {
      "cell_type": "markdown",
      "metadata": {
        "id": "Bx_WrT1KAPhC"
      },
      "source": [
        "**# Bag of words**"
      ]
    },
    {
      "cell_type": "markdown",
      "metadata": {
        "id": "Uod4eKqhAPhD"
      },
      "source": [
        "**CountVectorizer**"
      ]
    },
    {
      "cell_type": "code",
      "execution_count": 113,
      "metadata": {
        "id": "GKs1W0jxAPhD"
      },
      "outputs": [],
      "source": [
        "vectorizer = CountVectorizer()\n",
        "vectorizer.fit(text_df['Article Content'])\n",
        "vector = vectorizer.transform(text_df['Article Content'])"
      ]
    },
    {
      "cell_type": "code",
      "execution_count": 114,
      "metadata": {
        "colab": {
          "base_uri": "https://localhost:8080/"
        },
        "id": "cb7fa8dtAPhD",
        "outputId": "f1a4dff6-2e66-43cb-84b3-acee73f24578"
      },
      "outputs": [
        {
          "output_type": "stream",
          "name": "stdout",
          "text": [
            "(2493, 39548)\n",
            "[[0 0 0 ... 0 0 0]\n",
            " [0 0 0 ... 0 0 0]\n",
            " [0 0 0 ... 0 0 0]\n",
            " ...\n",
            " [0 0 0 ... 0 0 0]\n",
            " [0 0 0 ... 0 0 0]\n",
            " [0 0 0 ... 0 0 0]]\n"
          ]
        }
      ],
      "source": [
        "print(vector.shape)\n",
        "print(vector.toarray())"
      ]
    },
    {
      "cell_type": "code",
      "execution_count": 115,
      "metadata": {
        "colab": {
          "base_uri": "https://localhost:8080/"
        },
        "id": "aHENjf-mAPhD",
        "outputId": "aebe89ef-d72c-4d3a-fe1c-746044aa3c27"
      },
      "outputs": [
        {
          "output_type": "execute_result",
          "data": {
            "text/plain": [
              "array([[0., 0., 0., ..., 0., 0., 0.],\n",
              "       [0., 0., 0., ..., 0., 0., 0.],\n",
              "       [0., 0., 0., ..., 0., 0., 0.],\n",
              "       ...,\n",
              "       [0., 0., 0., ..., 0., 0., 0.],\n",
              "       [0., 0., 0., ..., 0., 0., 0.],\n",
              "       [0., 0., 0., ..., 0., 0., 0.]])"
            ]
          },
          "metadata": {},
          "execution_count": 115
        }
      ],
      "source": [
        "tfidf_converter = TfidfTransformer()\n",
        "X_tfidf = tfidf_converter.fit_transform(vector).toarray()\n",
        "X_tfidf"
      ]
    },
    {
      "cell_type": "code",
      "execution_count": 116,
      "metadata": {
        "id": "gTdAxseSAPhE"
      },
      "outputs": [],
      "source": [
        "X = text_df['Article Content']\n",
        "y = text_df['Kategori']\n",
        "####\n",
        "X_train, X_test, y_train, y_test = train_test_split(X, y, test_size=0.25, random_state = 0)"
      ]
    },
    {
      "cell_type": "code",
      "execution_count": 117,
      "metadata": {
        "colab": {
          "base_uri": "https://localhost:8080/"
        },
        "id": "KDBDSCxHAPhE",
        "outputId": "2a461e56-89bf-4555-9584-28ad8594fff8"
      },
      "outputs": [
        {
          "output_type": "execute_result",
          "data": {
            "text/plain": [
              "((1869,), (624,), (1869,), (624,))"
            ]
          },
          "metadata": {},
          "execution_count": 117
        }
      ],
      "source": [
        "X_train.shape, X_test.shape, y_train.shape, y_test.shape"
      ]
    },
    {
      "cell_type": "markdown",
      "metadata": {
        "id": "tV4fUdyoAPhE"
      },
      "source": [
        "**RNN**"
      ]
    },
    {
      "cell_type": "code",
      "source": [
        "t = Tokenizer()\n",
        "t.fit_on_texts(X_train)"
      ],
      "metadata": {
        "id": "zd9IWfUa1o7x"
      },
      "execution_count": 118,
      "outputs": []
    },
    {
      "cell_type": "code",
      "source": [
        "encoded_train = t.texts_to_sequences(X_train)\n",
        "encoded_test = t.texts_to_sequences(X_test)\n",
        "print(encoded_train[0:2])"
      ],
      "metadata": {
        "colab": {
          "base_uri": "https://localhost:8080/"
        },
        "id": "uJsB0XqC2OE4",
        "outputId": "bee9a6d1-f202-4d45-939a-ac0fe0f4578c"
      },
      "execution_count": 119,
      "outputs": [
        {
          "output_type": "stream",
          "name": "stdout",
          "text": [
            "[[3109, 95, 7662, 564, 4600, 4, 66, 2216, 4080, 11417, 636, 66, 19269, 19270], [5, 1096, 3651, 178, 95, 6285, 33, 2298, 1075, 11418, 1684, 4347, 5770, 1490, 1782, 7663, 11419, 607, 95, 5313, 5, 2299, 446, 5771, 3652, 157, 1005, 60, 8575, 95, 1491, 7663, 84, 4081, 15, 5772, 1006, 2, 5773, 348, 258, 375, 18, 157, 950, 1163, 390, 154, 1115, 762, 2, 6933, 348, 95, 157, 95, 1399, 4923, 1491, 36, 2978, 95, 5313, 1685, 5314, 7663, 3474, 951, 18, 4082, 139, 33, 987, 329, 157, 2008, 1838, 9727, 19271, 1163, 952, 113, 1839, 1302, 2852, 1686, 6934, 64, 3653, 19272, 309, 4083, 7664, 2077, 1687, 140, 11420, 5315, 1265, 8576, 250, 659, 233, 4924, 4348, 272, 2610, 3475, 400, 4924, 4348, 1783, 780, 2299, 4925, 2299, 446, 5771, 3652, 7665, 11, 154, 2009, 1373, 1732, 8576, 1164, 8577, 3654, 4349, 6935, 4924, 4348, 3476, 3655, 1115, 11, 15, 762, 2, 406, 154, 95, 637, 9728, 5316, 11420, 9727, 9729, 515, 250, 1115, 12, 15, 1115, 44, 15, 2, 9730, 154, 2, 19273, 154, 272, 95, 4926, 3655, 8578, 250, 54, 15, 1115, 2139, 915, 279, 95, 4350, 1399, 3110, 19274, 915, 2299, 41, 3655, 4924, 4348, 95, 84, 2, 19275, 154, 6286, 3287, 2852, 8579, 1490, 1782, 272, 2299, 41, 48, 422, 324, 3477, 19276, 4084, 3110, 4350, 4927, 2299, 4085, 19277, 19278, 8, 8580, 1399, 4923, 1139, 9731, 4924, 4348, 272, 95, 2299, 4351, 7666, 3478, 1237, 6936, 2299, 446, 5771, 3652]]\n"
          ]
        }
      ]
    },
    {
      "cell_type": "code",
      "source": [
        "max_length = 8\n",
        "padded_train = pad_sequences(encoded_train, maxlen=max_length, padding='post')\n",
        "padded_test = pad_sequences(encoded_test, maxlen=max_length, padding='post')\n",
        "print(padded_train)"
      ],
      "metadata": {
        "colab": {
          "base_uri": "https://localhost:8080/"
        },
        "id": "6Yr0tYob2S5c",
        "outputId": "43808e43-4e66-4b2f-dbda-d50b0ad7e01d"
      },
      "execution_count": 120,
      "outputs": [
        {
          "output_type": "stream",
          "name": "stdout",
          "text": [
            "[[   66  2216  4080 ...    66 19269 19270]\n",
            " [ 7666  3478  1237 ...   446  5771  3652]\n",
            " [ 1616  1165  1211 ...  1492   216   842]\n",
            " ...\n",
            " [ 3308   231   385 ...  5092   764  5078]\n",
            " [ 4995  2467  3561 ...  3310  2467   764]\n",
            " [   59   383    32 ...   294  2103  3933]]\n"
          ]
        }
      ]
    },
    {
      "cell_type": "code",
      "source": [
        "vocab_size = len(t.word_index) + 1# fit the model\n",
        "\n",
        "model = Sequential()\n",
        "model.add(Embedding(vocab_size, 24, input_length=max_length))\n",
        "model.add(SimpleRNN(24, return_sequences=False))\n",
        "model.add(Dense(1, activation='sigmoid'))\n",
        "\n",
        "model.compile(optimizer='rmsprop', loss='Article Content', metrics=['accuracy'])\n",
        "print(model.summary())"
      ],
      "metadata": {
        "colab": {
          "base_uri": "https://localhost:8080/"
        },
        "id": "y4wN8F-w2ueO",
        "outputId": "c567bb61-1ace-410f-fe59-a1e10889c4f5"
      },
      "execution_count": 121,
      "outputs": [
        {
          "output_type": "stream",
          "name": "stdout",
          "text": [
            "Model: \"sequential_11\"\n",
            "_________________________________________________________________\n",
            " Layer (type)                Output Shape              Param #   \n",
            "=================================================================\n",
            " embedding_10 (Embedding)    (None, 8, 24)             881688    \n",
            "                                                                 \n",
            " simple_rnn_7 (SimpleRNN)    (None, 24)                1176      \n",
            "                                                                 \n",
            " dense_9 (Dense)             (None, 1)                 25        \n",
            "                                                                 \n",
            "=================================================================\n",
            "Total params: 882,889\n",
            "Trainable params: 882,889\n",
            "Non-trainable params: 0\n",
            "_________________________________________________________________\n",
            "None\n"
          ]
        }
      ]
    },
    {
      "cell_type": "code",
      "source": [
        "early_stop = EarlyStopping(monitor='val_loss', mode='min', verbose=1, patience=10)\n",
        "\n",
        "model.fit(x=padded_train,\n",
        "         y=y_train,\n",
        "         epochs=5,  \n",
        "         validation_data=(padded_test, y_test), verbose=1,\n",
        "         callbacks=[early_stop]\n",
        "         )"
      ],
      "metadata": {
        "colab": {
          "base_uri": "https://localhost:8080/",
          "height": 1000
        },
        "id": "alJfx3zP3VH2",
        "outputId": "6455132e-45c7-4e13-87c8-a7e9a5b98343"
      },
      "execution_count": 122,
      "outputs": [
        {
          "output_type": "stream",
          "name": "stdout",
          "text": [
            "Epoch 1/5\n"
          ]
        },
        {
          "output_type": "error",
          "ename": "ValueError",
          "evalue": "ignored",
          "traceback": [
            "\u001b[0;31m---------------------------------------------------------------------------\u001b[0m",
            "\u001b[0;31mValueError\u001b[0m                                Traceback (most recent call last)",
            "\u001b[0;32m<ipython-input-122-916e47de0094>\u001b[0m in \u001b[0;36m<module>\u001b[0;34m()\u001b[0m\n\u001b[1;32m      5\u001b[0m          \u001b[0mepochs\u001b[0m\u001b[0;34m=\u001b[0m\u001b[0;36m5\u001b[0m\u001b[0;34m,\u001b[0m\u001b[0;34m\u001b[0m\u001b[0;34m\u001b[0m\u001b[0m\n\u001b[1;32m      6\u001b[0m          \u001b[0mvalidation_data\u001b[0m\u001b[0;34m=\u001b[0m\u001b[0;34m(\u001b[0m\u001b[0mpadded_test\u001b[0m\u001b[0;34m,\u001b[0m \u001b[0my_test\u001b[0m\u001b[0;34m)\u001b[0m\u001b[0;34m,\u001b[0m \u001b[0mverbose\u001b[0m\u001b[0;34m=\u001b[0m\u001b[0;36m1\u001b[0m\u001b[0;34m,\u001b[0m\u001b[0;34m\u001b[0m\u001b[0;34m\u001b[0m\u001b[0m\n\u001b[0;32m----> 7\u001b[0;31m          \u001b[0mcallbacks\u001b[0m\u001b[0;34m=\u001b[0m\u001b[0;34m[\u001b[0m\u001b[0mearly_stop\u001b[0m\u001b[0;34m]\u001b[0m\u001b[0;34m\u001b[0m\u001b[0;34m\u001b[0m\u001b[0m\n\u001b[0m\u001b[1;32m      8\u001b[0m          )\n",
            "\u001b[0;32m/usr/local/lib/python3.7/dist-packages/keras/utils/traceback_utils.py\u001b[0m in \u001b[0;36merror_handler\u001b[0;34m(*args, **kwargs)\u001b[0m\n\u001b[1;32m     65\u001b[0m     \u001b[0;32mexcept\u001b[0m \u001b[0mException\u001b[0m \u001b[0;32mas\u001b[0m \u001b[0me\u001b[0m\u001b[0;34m:\u001b[0m  \u001b[0;31m# pylint: disable=broad-except\u001b[0m\u001b[0;34m\u001b[0m\u001b[0;34m\u001b[0m\u001b[0m\n\u001b[1;32m     66\u001b[0m       \u001b[0mfiltered_tb\u001b[0m \u001b[0;34m=\u001b[0m \u001b[0m_process_traceback_frames\u001b[0m\u001b[0;34m(\u001b[0m\u001b[0me\u001b[0m\u001b[0;34m.\u001b[0m\u001b[0m__traceback__\u001b[0m\u001b[0;34m)\u001b[0m\u001b[0;34m\u001b[0m\u001b[0;34m\u001b[0m\u001b[0m\n\u001b[0;32m---> 67\u001b[0;31m       \u001b[0;32mraise\u001b[0m \u001b[0me\u001b[0m\u001b[0;34m.\u001b[0m\u001b[0mwith_traceback\u001b[0m\u001b[0;34m(\u001b[0m\u001b[0mfiltered_tb\u001b[0m\u001b[0;34m)\u001b[0m \u001b[0;32mfrom\u001b[0m \u001b[0;32mNone\u001b[0m\u001b[0;34m\u001b[0m\u001b[0;34m\u001b[0m\u001b[0m\n\u001b[0m\u001b[1;32m     68\u001b[0m     \u001b[0;32mfinally\u001b[0m\u001b[0;34m:\u001b[0m\u001b[0;34m\u001b[0m\u001b[0;34m\u001b[0m\u001b[0m\n\u001b[1;32m     69\u001b[0m       \u001b[0;32mdel\u001b[0m \u001b[0mfiltered_tb\u001b[0m\u001b[0;34m\u001b[0m\u001b[0;34m\u001b[0m\u001b[0m\n",
            "\u001b[0;32m/usr/local/lib/python3.7/dist-packages/tensorflow/python/framework/func_graph.py\u001b[0m in \u001b[0;36mautograph_handler\u001b[0;34m(*args, **kwargs)\u001b[0m\n\u001b[1;32m   1145\u001b[0m           \u001b[0;32mexcept\u001b[0m \u001b[0mException\u001b[0m \u001b[0;32mas\u001b[0m \u001b[0me\u001b[0m\u001b[0;34m:\u001b[0m  \u001b[0;31m# pylint:disable=broad-except\u001b[0m\u001b[0;34m\u001b[0m\u001b[0;34m\u001b[0m\u001b[0m\n\u001b[1;32m   1146\u001b[0m             \u001b[0;32mif\u001b[0m \u001b[0mhasattr\u001b[0m\u001b[0;34m(\u001b[0m\u001b[0me\u001b[0m\u001b[0;34m,\u001b[0m \u001b[0;34m\"ag_error_metadata\"\u001b[0m\u001b[0;34m)\u001b[0m\u001b[0;34m:\u001b[0m\u001b[0;34m\u001b[0m\u001b[0;34m\u001b[0m\u001b[0m\n\u001b[0;32m-> 1147\u001b[0;31m               \u001b[0;32mraise\u001b[0m \u001b[0me\u001b[0m\u001b[0;34m.\u001b[0m\u001b[0mag_error_metadata\u001b[0m\u001b[0;34m.\u001b[0m\u001b[0mto_exception\u001b[0m\u001b[0;34m(\u001b[0m\u001b[0me\u001b[0m\u001b[0;34m)\u001b[0m\u001b[0;34m\u001b[0m\u001b[0;34m\u001b[0m\u001b[0m\n\u001b[0m\u001b[1;32m   1148\u001b[0m             \u001b[0;32melse\u001b[0m\u001b[0;34m:\u001b[0m\u001b[0;34m\u001b[0m\u001b[0;34m\u001b[0m\u001b[0m\n\u001b[1;32m   1149\u001b[0m               \u001b[0;32mraise\u001b[0m\u001b[0;34m\u001b[0m\u001b[0;34m\u001b[0m\u001b[0m\n",
            "\u001b[0;31mValueError\u001b[0m: in user code:\n\n    File \"/usr/local/lib/python3.7/dist-packages/keras/engine/training.py\", line 1021, in train_function  *\n        return step_function(self, iterator)\n    File \"/usr/local/lib/python3.7/dist-packages/keras/engine/training.py\", line 1010, in step_function  **\n        outputs = model.distribute_strategy.run(run_step, args=(data,))\n    File \"/usr/local/lib/python3.7/dist-packages/keras/engine/training.py\", line 1000, in run_step  **\n        outputs = model.train_step(data)\n    File \"/usr/local/lib/python3.7/dist-packages/keras/engine/training.py\", line 860, in train_step\n        loss = self.compute_loss(x, y, y_pred, sample_weight)\n    File \"/usr/local/lib/python3.7/dist-packages/keras/engine/training.py\", line 919, in compute_loss\n        y, y_pred, sample_weight, regularization_losses=self.losses)\n    File \"/usr/local/lib/python3.7/dist-packages/keras/engine/compile_utils.py\", line 184, in __call__\n        self.build(y_pred)\n    File \"/usr/local/lib/python3.7/dist-packages/keras/engine/compile_utils.py\", line 133, in build\n        self._losses = tf.nest.map_structure(self._get_loss_object, self._losses)\n    File \"/usr/local/lib/python3.7/dist-packages/keras/engine/compile_utils.py\", line 272, in _get_loss_object\n        loss = losses_mod.get(loss)\n    File \"/usr/local/lib/python3.7/dist-packages/keras/losses.py\", line 2369, in get\n        return deserialize(identifier)\n    File \"/usr/local/lib/python3.7/dist-packages/keras/losses.py\", line 2328, in deserialize\n        printable_module_name='loss function')\n    File \"/usr/local/lib/python3.7/dist-packages/keras/utils/generic_utils.py\", line 710, in deserialize_keras_object\n        f'Unknown {printable_module_name}: {object_name}. Please ensure '\n\n    ValueError: Unknown loss function: Article Content. Please ensure this object is passed to the `custom_objects` argument. See https://www.tensorflow.org/guide/keras/save_and_serialize#registering_the_custom_object for details.\n"
          ]
        }
      ]
    },
    {
      "cell_type": "code",
      "source": [
        "from sklearn.metrics import classification_report, confusion_matrix, accuracy_score\n",
        "\n",
        "def c_report(y_true, y_pred):\n",
        "   print(\"Classification Report\")\n",
        "   print(classification_report(y_true, y_pred))\n",
        "   acc_sc = accuracy_score(y_true, y_pred)\n",
        "   print(\"Accuracy : \"+ str(acc_sc))\n",
        "   return acc_sc\n",
        "\n",
        "def plot_confusion_matrix(y_true, y_pred):\n",
        "   mtx = confusion_matrix(y_true, y_pred)\n",
        "   sns.heatmap(mtx, annot=True, fmt='d', linewidths=.5, \n",
        "               cmap=\"Blues\", cbar=False)\n",
        "   plt.ylabel('True label')\n",
        "   plt.xlabel('Predicted label') "
      ],
      "metadata": {
        "id": "q0XhyM0B4p6d"
      },
      "execution_count": 123,
      "outputs": []
    },
    {
      "cell_type": "code",
      "source": [
        "preds = (model.predict(padded_test) > 0.5).astype(\"int32\")"
      ],
      "metadata": {
        "id": "2kVOVpTN4tb3"
      },
      "execution_count": 124,
      "outputs": []
    },
    {
      "cell_type": "code",
      "source": [
        "c_report(y_test, preds)"
      ],
      "metadata": {
        "colab": {
          "base_uri": "https://localhost:8080/",
          "height": 327
        },
        "id": "WSG_Mz3F4wkl",
        "outputId": "a4a17dfc-ed9c-40b0-a7b5-e6aa58d4a4de"
      },
      "execution_count": 125,
      "outputs": [
        {
          "output_type": "stream",
          "name": "stdout",
          "text": [
            "Classification Report\n"
          ]
        },
        {
          "output_type": "error",
          "ename": "ValueError",
          "evalue": "ignored",
          "traceback": [
            "\u001b[0;31m---------------------------------------------------------------------------\u001b[0m",
            "\u001b[0;31mValueError\u001b[0m                                Traceback (most recent call last)",
            "\u001b[0;32m<ipython-input-125-dc0f72643359>\u001b[0m in \u001b[0;36m<module>\u001b[0;34m()\u001b[0m\n\u001b[0;32m----> 1\u001b[0;31m \u001b[0mc_report\u001b[0m\u001b[0;34m(\u001b[0m\u001b[0my_test\u001b[0m\u001b[0;34m,\u001b[0m \u001b[0mpreds\u001b[0m\u001b[0;34m)\u001b[0m\u001b[0;34m\u001b[0m\u001b[0;34m\u001b[0m\u001b[0m\n\u001b[0m",
            "\u001b[0;32m<ipython-input-123-0ed5d90be473>\u001b[0m in \u001b[0;36mc_report\u001b[0;34m(y_true, y_pred)\u001b[0m\n\u001b[1;32m      3\u001b[0m \u001b[0;32mdef\u001b[0m \u001b[0mc_report\u001b[0m\u001b[0;34m(\u001b[0m\u001b[0my_true\u001b[0m\u001b[0;34m,\u001b[0m \u001b[0my_pred\u001b[0m\u001b[0;34m)\u001b[0m\u001b[0;34m:\u001b[0m\u001b[0;34m\u001b[0m\u001b[0;34m\u001b[0m\u001b[0m\n\u001b[1;32m      4\u001b[0m    \u001b[0mprint\u001b[0m\u001b[0;34m(\u001b[0m\u001b[0;34m\"Classification Report\"\u001b[0m\u001b[0;34m)\u001b[0m\u001b[0;34m\u001b[0m\u001b[0;34m\u001b[0m\u001b[0m\n\u001b[0;32m----> 5\u001b[0;31m    \u001b[0mprint\u001b[0m\u001b[0;34m(\u001b[0m\u001b[0mclassification_report\u001b[0m\u001b[0;34m(\u001b[0m\u001b[0my_true\u001b[0m\u001b[0;34m,\u001b[0m \u001b[0my_pred\u001b[0m\u001b[0;34m)\u001b[0m\u001b[0;34m)\u001b[0m\u001b[0;34m\u001b[0m\u001b[0;34m\u001b[0m\u001b[0m\n\u001b[0m\u001b[1;32m      6\u001b[0m    \u001b[0macc_sc\u001b[0m \u001b[0;34m=\u001b[0m \u001b[0maccuracy_score\u001b[0m\u001b[0;34m(\u001b[0m\u001b[0my_true\u001b[0m\u001b[0;34m,\u001b[0m \u001b[0my_pred\u001b[0m\u001b[0;34m)\u001b[0m\u001b[0;34m\u001b[0m\u001b[0;34m\u001b[0m\u001b[0m\n\u001b[1;32m      7\u001b[0m    \u001b[0mprint\u001b[0m\u001b[0;34m(\u001b[0m\u001b[0;34m\"Accuracy : \"\u001b[0m\u001b[0;34m+\u001b[0m \u001b[0mstr\u001b[0m\u001b[0;34m(\u001b[0m\u001b[0macc_sc\u001b[0m\u001b[0;34m)\u001b[0m\u001b[0;34m)\u001b[0m\u001b[0;34m\u001b[0m\u001b[0;34m\u001b[0m\u001b[0m\n",
            "\u001b[0;32m/usr/local/lib/python3.7/dist-packages/sklearn/metrics/_classification.py\u001b[0m in \u001b[0;36mclassification_report\u001b[0;34m(y_true, y_pred, labels, target_names, sample_weight, digits, output_dict, zero_division)\u001b[0m\n\u001b[1;32m   2111\u001b[0m \u001b[0;34m\u001b[0m\u001b[0m\n\u001b[1;32m   2112\u001b[0m     \u001b[0;32mif\u001b[0m \u001b[0mlabels\u001b[0m \u001b[0;32mis\u001b[0m \u001b[0;32mNone\u001b[0m\u001b[0;34m:\u001b[0m\u001b[0;34m\u001b[0m\u001b[0;34m\u001b[0m\u001b[0m\n\u001b[0;32m-> 2113\u001b[0;31m         \u001b[0mlabels\u001b[0m \u001b[0;34m=\u001b[0m \u001b[0munique_labels\u001b[0m\u001b[0;34m(\u001b[0m\u001b[0my_true\u001b[0m\u001b[0;34m,\u001b[0m \u001b[0my_pred\u001b[0m\u001b[0;34m)\u001b[0m\u001b[0;34m\u001b[0m\u001b[0;34m\u001b[0m\u001b[0m\n\u001b[0m\u001b[1;32m   2114\u001b[0m         \u001b[0mlabels_given\u001b[0m \u001b[0;34m=\u001b[0m \u001b[0;32mFalse\u001b[0m\u001b[0;34m\u001b[0m\u001b[0;34m\u001b[0m\u001b[0m\n\u001b[1;32m   2115\u001b[0m     \u001b[0;32melse\u001b[0m\u001b[0;34m:\u001b[0m\u001b[0;34m\u001b[0m\u001b[0;34m\u001b[0m\u001b[0m\n",
            "\u001b[0;32m/usr/local/lib/python3.7/dist-packages/sklearn/utils/multiclass.py\u001b[0m in \u001b[0;36munique_labels\u001b[0;34m(*ys)\u001b[0m\n\u001b[1;32m    105\u001b[0m     \u001b[0;31m# Check that we don't mix string type with number type\u001b[0m\u001b[0;34m\u001b[0m\u001b[0;34m\u001b[0m\u001b[0;34m\u001b[0m\u001b[0m\n\u001b[1;32m    106\u001b[0m     \u001b[0;32mif\u001b[0m \u001b[0mlen\u001b[0m\u001b[0;34m(\u001b[0m\u001b[0mset\u001b[0m\u001b[0;34m(\u001b[0m\u001b[0misinstance\u001b[0m\u001b[0;34m(\u001b[0m\u001b[0mlabel\u001b[0m\u001b[0;34m,\u001b[0m \u001b[0mstr\u001b[0m\u001b[0;34m)\u001b[0m \u001b[0;32mfor\u001b[0m \u001b[0mlabel\u001b[0m \u001b[0;32min\u001b[0m \u001b[0mys_labels\u001b[0m\u001b[0;34m)\u001b[0m\u001b[0;34m)\u001b[0m \u001b[0;34m>\u001b[0m \u001b[0;36m1\u001b[0m\u001b[0;34m:\u001b[0m\u001b[0;34m\u001b[0m\u001b[0;34m\u001b[0m\u001b[0m\n\u001b[0;32m--> 107\u001b[0;31m         \u001b[0;32mraise\u001b[0m \u001b[0mValueError\u001b[0m\u001b[0;34m(\u001b[0m\u001b[0;34m\"Mix of label input types (string and number)\"\u001b[0m\u001b[0;34m)\u001b[0m\u001b[0;34m\u001b[0m\u001b[0;34m\u001b[0m\u001b[0m\n\u001b[0m\u001b[1;32m    108\u001b[0m \u001b[0;34m\u001b[0m\u001b[0m\n\u001b[1;32m    109\u001b[0m     \u001b[0;32mreturn\u001b[0m \u001b[0mnp\u001b[0m\u001b[0;34m.\u001b[0m\u001b[0marray\u001b[0m\u001b[0;34m(\u001b[0m\u001b[0msorted\u001b[0m\u001b[0;34m(\u001b[0m\u001b[0mys_labels\u001b[0m\u001b[0;34m)\u001b[0m\u001b[0;34m)\u001b[0m\u001b[0;34m\u001b[0m\u001b[0;34m\u001b[0m\u001b[0m\n",
            "\u001b[0;31mValueError\u001b[0m: Mix of label input types (string and number)"
          ]
        }
      ]
    },
    {
      "cell_type": "markdown",
      "source": [
        "**LSTM**"
      ],
      "metadata": {
        "id": "LlyF4MmqmpEB"
      }
    },
    {
      "cell_type": "code",
      "source": [
        "vectorizer = CountVectorizer()\n",
        "\n",
        "X_train,X_test, y_train, y_test = train_test_split(df['Article Content'],df['Kategori'],train_size=0.8,random_state=42)\n",
        "X_train = vectorizer.fit_transform(X_train)\n",
        "X_test = vectorizer.transform(X_test)"
      ],
      "metadata": {
        "id": "GKqiNr9-fNAE"
      },
      "execution_count": 126,
      "outputs": []
    },
    {
      "cell_type": "code",
      "source": [
        "MAX_NB_WORDS = 50000\n",
        "MAX_SEQUENCE_LENGTH = 250\n",
        "EMBEDDING_DIM = 100\n",
        "tokenizer = Tokenizer(num_words=MAX_NB_WORDS, filters='#$$%&()*+,-./:;<=>?@[\\]^_{|}~', lower=True)\n",
        "tokenizer.fit_on_texts(df['Article Content'].values)\n",
        "word_index = tokenizer.word_index\n",
        "print('Found %s unique tokens.' % len(word_index))\n",
        "\n",
        "X = tokenizer.texts_to_sequences(df['Article Content'].values)\n",
        "X = pad_sequences(X, maxlen=MAX_SEQUENCE_LENGTH)\n",
        "print('Shape of data tensor:', X.shape)"
      ],
      "metadata": {
        "colab": {
          "base_uri": "https://localhost:8080/"
        },
        "id": "Iut5YbEsfiF_",
        "outputId": "9cdce2de-cd9c-4e8c-c216-8375bdfb6d67"
      },
      "execution_count": 127,
      "outputs": [
        {
          "output_type": "stream",
          "name": "stdout",
          "text": [
            "Found 43383 unique tokens.\n",
            "Shape of data tensor: (2493, 250)\n"
          ]
        }
      ]
    },
    {
      "cell_type": "code",
      "source": [
        "Y = pd.get_dummies(df['Kategori']).values\n",
        "print('Shape of label tensor:', Y.shape)"
      ],
      "metadata": {
        "colab": {
          "base_uri": "https://localhost:8080/"
        },
        "id": "P4aKYrTtgKj-",
        "outputId": "8e09dd9e-d81f-4284-f720-37e99b333cec"
      },
      "execution_count": 128,
      "outputs": [
        {
          "output_type": "stream",
          "name": "stdout",
          "text": [
            "Shape of label tensor: (2493, 6)\n"
          ]
        }
      ]
    },
    {
      "cell_type": "code",
      "source": [
        "X_train,X_test, Y_train, Y_test = train_test_split(X,Y, test_size = 0.10, random_state = 42)\n",
        "print(X_train.shape,Y_train.shape)\n",
        "print(X_test.shape,Y_test.shape)"
      ],
      "metadata": {
        "colab": {
          "base_uri": "https://localhost:8080/"
        },
        "id": "I6DNoBIagE2h",
        "outputId": "5d1cc940-436a-4f76-eaab-ef15a0e327c3"
      },
      "execution_count": 129,
      "outputs": [
        {
          "output_type": "stream",
          "name": "stdout",
          "text": [
            "(2243, 250) (2243, 6)\n",
            "(250, 250) (250, 6)\n"
          ]
        }
      ]
    },
    {
      "cell_type": "code",
      "source": [
        "model = Sequential()\n",
        "model.add(Embedding(MAX_NB_WORDS, EMBEDDING_DIM, input_length=X.shape[1]))\n",
        "model.add(SpatialDropout1D(0.2))\n",
        "model.add(LSTM(100, dropout=0.2, recurrent_dropout=0.2))\n",
        "model.add(Dense(6, activation='softmax'))\n",
        "model.compile(loss='categorical_crossentropy', optimizer='adam', metrics=['accuracy'])\n",
        "\n",
        "epochs = 5    \n",
        "batch_size = 64\n",
        "\n",
        "model.fit(X_train, Y_train, epochs=epochs, batch_size=batch_size,validation_split=0.1)"
      ],
      "metadata": {
        "colab": {
          "base_uri": "https://localhost:8080/"
        },
        "id": "itqWe_kXmrTV",
        "outputId": "02329951-964b-47e8-cae9-4f974c127622"
      },
      "execution_count": 130,
      "outputs": [
        {
          "output_type": "stream",
          "name": "stdout",
          "text": [
            "WARNING:tensorflow:Layer lstm_2 will not use cuDNN kernels since it doesn't meet the criteria. It will use a generic GPU kernel as fallback when running on GPU.\n",
            "Epoch 1/5\n",
            "32/32 [==============================] - 49s 1s/step - loss: 1.6985 - accuracy: 0.3191 - val_loss: 1.5894 - val_accuracy: 0.3778\n",
            "Epoch 2/5\n",
            "32/32 [==============================] - 46s 1s/step - loss: 1.3572 - accuracy: 0.4658 - val_loss: 1.3345 - val_accuracy: 0.4133\n",
            "Epoch 3/5\n",
            "32/32 [==============================] - 45s 1s/step - loss: 1.0089 - accuracy: 0.6269 - val_loss: 1.0919 - val_accuracy: 0.6400\n",
            "Epoch 4/5\n",
            "32/32 [==============================] - 45s 1s/step - loss: 0.6703 - accuracy: 0.8290 - val_loss: 0.8756 - val_accuracy: 0.6889\n",
            "Epoch 5/5\n",
            "32/32 [==============================] - 46s 1s/step - loss: 0.3169 - accuracy: 0.9371 - val_loss: 0.7632 - val_accuracy: 0.7200\n"
          ]
        },
        {
          "output_type": "execute_result",
          "data": {
            "text/plain": [
              "<keras.callbacks.History at 0x7f8f28052b50>"
            ]
          },
          "metadata": {},
          "execution_count": 130
        }
      ]
    },
    {
      "cell_type": "code",
      "source": [
        "y_pred = model.predict(X_test)\n",
        "y_pred.shape"
      ],
      "metadata": {
        "colab": {
          "base_uri": "https://localhost:8080/"
        },
        "id": "5YAX7C1AhZCT",
        "outputId": "c32e26e1-53a1-4711-c5cb-4e6701d5039f"
      },
      "execution_count": 131,
      "outputs": [
        {
          "output_type": "execute_result",
          "data": {
            "text/plain": [
              "(250, 6)"
            ]
          },
          "metadata": {},
          "execution_count": 131
        }
      ]
    },
    {
      "cell_type": "markdown",
      "source": [
        "**CNN**"
      ],
      "metadata": {
        "id": "vciL6c_alICK"
      }
    },
    {
      "cell_type": "code",
      "source": [
        "max_words = 450"
      ],
      "metadata": {
        "id": "CQQcX-5wlK-u"
      },
      "execution_count": 133,
      "outputs": []
    }
  ],
  "metadata": {
    "colab": {
      "collapsed_sections": [
        "-DWOADEZAPg-",
        "AlxbmraAAPg_",
        "G_Ud7Kp5APhC",
        "Bx_WrT1KAPhC",
        "Uod4eKqhAPhD",
        "tV4fUdyoAPhE",
        "Tb-Ldb8DAPhE",
        "y4YAyu9dAPhF",
        "EjYt07yIAPhG",
        "_UrC3l43APhL"
      ],
      "name": "UAS NLP",
      "provenance": []
    },
    "kernelspec": {
      "display_name": "Python 3",
      "language": "python",
      "name": "python3"
    },
    "language_info": {
      "codemirror_mode": {
        "name": "ipython",
        "version": 3
      },
      "file_extension": ".py",
      "mimetype": "text/x-python",
      "name": "python",
      "nbconvert_exporter": "python",
      "pygments_lexer": "ipython3",
      "version": "3.8.10"
    },
    "accelerator": "GPU"
  },
  "nbformat": 4,
  "nbformat_minor": 0
}